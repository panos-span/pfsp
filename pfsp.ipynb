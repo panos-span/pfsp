{
 "cells": [
  {
   "cell_type": "markdown",
   "source": [
    "# Permutation Flowshop Scheduling Problem (PFSP)\n",
    "\n",
    "The Permutation Flowshop Scheduling Problem (PFSP) is a well-known combinatorial optimization problem. The problem is defined as follows:\n",
    "\n",
    " Given a set of jobs $J = \\{J_1, J_2, \\ldots, J_n\\}$ and a set of machines $M = \\{M_1, M_2, \\ldots, M_m\\}$, where each job $J_i$ consists of $m$ operations, one for each machine, the objective is to find a permutation of the jobs that minimizes the makespan, i.e., the total time it takes to process all jobs on all machines.\n",
    "\n",
    "\n",
    "---\n",
    ">Spanakis Panagiotis-Alexios, Pregraduate Student\n",
    "Department of Management Science and Technology\n",
    "Athens University of Economics and Business\n",
    "t8200158@aueb.gr"
   ],
   "metadata": {
    "collapsed": false
   },
   "id": "b06ddae3bc36874"
  },
  {
   "cell_type": "markdown",
   "source": [
    "## Before we start\n",
    "\n",
    "We first need to go over the dependencies needed for this notebook to function properly. \n",
    "\n",
    "We will be using the following libraries:\n",
    "\n",
    "- numpy: For numerical operations and more efficient matrix operations\n",
    "- pandas: For data manipulation, more specifically for reading the data from the provided files\n",
    "- math: For the calculation of the factorial of a number\n",
    "\n",
    "To install the required libraries, run the following command:"
   ],
   "metadata": {
    "collapsed": false
   },
   "id": "3bb5359f3c26a64e"
  },
  {
   "cell_type": "code",
   "outputs": [],
   "source": [
    "from typing import List, Any\n",
    "!pip install -r requirements.txt"
   ],
   "metadata": {
    "collapsed": false,
    "ExecuteTime": {
     "start_time": "2024-03-31T15:30:12.336527Z"
    }
   },
   "id": "569b1f12c72d1c30"
  },
  {
   "cell_type": "markdown",
   "source": [
    "## Importing the necessary libraries\n",
    "\n",
    "We will start by importing the necessary libraries for this notebook.\n",
    "\n"
   ],
   "metadata": {
    "collapsed": false
   },
   "id": "cdfc08a03e7206f8"
  },
  {
   "cell_type": "code",
   "outputs": [],
   "source": [
    "import numpy as np\n",
    "import pandas as pd\n",
    "import math"
   ],
   "metadata": {
    "collapsed": false,
    "ExecuteTime": {
     "end_time": "2024-03-31T15:49:51.212352Z",
     "start_time": "2024-03-31T15:49:51.209689Z"
    }
   },
   "id": "a2b150af0d2c1856",
   "execution_count": 12
  },
  {
   "cell_type": "markdown",
   "source": [
    "## Reading the data\n",
    "\n",
    "We will start by reading the data from the provided file `input.csv`. The file contains the processing times for each job on each machine.\n",
    "\n",
    "Let's create a function that reads the data from the file."
   ],
   "metadata": {
    "collapsed": false
   },
   "id": "89b08033ba8e4cd8"
  },
  {
   "cell_type": "code",
   "outputs": [],
   "source": [
    "def read_data(data_path: str):\n",
    "    \"\"\"\n",
    "    Load data from the input file into a pandas DataFrame\n",
    "    :param data_path: the path to the input file\n",
    "    \"\"\"\n",
    "    data = pd.read_csv(data_path, header=None)\n",
    "    # Create columns J1 - J20 and name the rows M1 to M5\n",
    "    data.columns = ['J' + str(i) for i in range(1, data.shape[1] + 1)]\n",
    "    data.index = ['M' + str(i) for i in range(1, data.shape[0] + 1)]\n",
    "    return data"
   ],
   "metadata": {
    "collapsed": false,
    "ExecuteTime": {
     "end_time": "2024-03-31T15:49:51.546204Z",
     "start_time": "2024-03-31T15:49:51.543417Z"
    }
   },
   "id": "cc3f7da8745b5f96",
   "execution_count": 13
  },
  {
   "cell_type": "markdown",
   "source": [
    "Now, let's read the data from the file `input.csv` and display the data."
   ],
   "metadata": {
    "collapsed": false
   },
   "id": "d361e1c05ebf9ef5"
  },
  {
   "cell_type": "code",
   "outputs": [
    {
     "data": {
      "text/plain": "    J1  J2  J3  J4  J5  J6  J7  J8  J9  J10  J11  J12  J13  J14  J15  J16  \\\nM1  54  83  15  71  77  36  53  38  27   87   76   91   14   29   12   77   \nM2  79   3  11  99  56  70  99  60   5   56    3   61   73   75   47   14   \nM3  16  89  49  15  89  45  60  23  57   64    7    1   63   41   63   47   \nM4  66  58  31  68  78  91  13  59  49   85   85    9   39   41   56   40   \nM5  58  56  20  85  53  35  53  41  69   13   86   72    8   49   47   87   \n\n    J17  J18  J19  J20  \nM1   32   87   68   94  \nM2   21   86    5   77  \nM3   26   75   77   40  \nM4   54   77   51   31  \nM5   58   18   68   28  ",
      "text/html": "<div>\n<style scoped>\n    .dataframe tbody tr th:only-of-type {\n        vertical-align: middle;\n    }\n\n    .dataframe tbody tr th {\n        vertical-align: top;\n    }\n\n    .dataframe thead th {\n        text-align: right;\n    }\n</style>\n<table border=\"1\" class=\"dataframe\">\n  <thead>\n    <tr style=\"text-align: right;\">\n      <th></th>\n      <th>J1</th>\n      <th>J2</th>\n      <th>J3</th>\n      <th>J4</th>\n      <th>J5</th>\n      <th>J6</th>\n      <th>J7</th>\n      <th>J8</th>\n      <th>J9</th>\n      <th>J10</th>\n      <th>J11</th>\n      <th>J12</th>\n      <th>J13</th>\n      <th>J14</th>\n      <th>J15</th>\n      <th>J16</th>\n      <th>J17</th>\n      <th>J18</th>\n      <th>J19</th>\n      <th>J20</th>\n    </tr>\n  </thead>\n  <tbody>\n    <tr>\n      <th>M1</th>\n      <td>54</td>\n      <td>83</td>\n      <td>15</td>\n      <td>71</td>\n      <td>77</td>\n      <td>36</td>\n      <td>53</td>\n      <td>38</td>\n      <td>27</td>\n      <td>87</td>\n      <td>76</td>\n      <td>91</td>\n      <td>14</td>\n      <td>29</td>\n      <td>12</td>\n      <td>77</td>\n      <td>32</td>\n      <td>87</td>\n      <td>68</td>\n      <td>94</td>\n    </tr>\n    <tr>\n      <th>M2</th>\n      <td>79</td>\n      <td>3</td>\n      <td>11</td>\n      <td>99</td>\n      <td>56</td>\n      <td>70</td>\n      <td>99</td>\n      <td>60</td>\n      <td>5</td>\n      <td>56</td>\n      <td>3</td>\n      <td>61</td>\n      <td>73</td>\n      <td>75</td>\n      <td>47</td>\n      <td>14</td>\n      <td>21</td>\n      <td>86</td>\n      <td>5</td>\n      <td>77</td>\n    </tr>\n    <tr>\n      <th>M3</th>\n      <td>16</td>\n      <td>89</td>\n      <td>49</td>\n      <td>15</td>\n      <td>89</td>\n      <td>45</td>\n      <td>60</td>\n      <td>23</td>\n      <td>57</td>\n      <td>64</td>\n      <td>7</td>\n      <td>1</td>\n      <td>63</td>\n      <td>41</td>\n      <td>63</td>\n      <td>47</td>\n      <td>26</td>\n      <td>75</td>\n      <td>77</td>\n      <td>40</td>\n    </tr>\n    <tr>\n      <th>M4</th>\n      <td>66</td>\n      <td>58</td>\n      <td>31</td>\n      <td>68</td>\n      <td>78</td>\n      <td>91</td>\n      <td>13</td>\n      <td>59</td>\n      <td>49</td>\n      <td>85</td>\n      <td>85</td>\n      <td>9</td>\n      <td>39</td>\n      <td>41</td>\n      <td>56</td>\n      <td>40</td>\n      <td>54</td>\n      <td>77</td>\n      <td>51</td>\n      <td>31</td>\n    </tr>\n    <tr>\n      <th>M5</th>\n      <td>58</td>\n      <td>56</td>\n      <td>20</td>\n      <td>85</td>\n      <td>53</td>\n      <td>35</td>\n      <td>53</td>\n      <td>41</td>\n      <td>69</td>\n      <td>13</td>\n      <td>86</td>\n      <td>72</td>\n      <td>8</td>\n      <td>49</td>\n      <td>47</td>\n      <td>87</td>\n      <td>58</td>\n      <td>18</td>\n      <td>68</td>\n      <td>28</td>\n    </tr>\n  </tbody>\n</table>\n</div>"
     },
     "execution_count": 14,
     "metadata": {},
     "output_type": "execute_result"
    }
   ],
   "source": [
    "data_path = 'input.csv'\n",
    "data = read_data(data_path)\n",
    "data"
   ],
   "metadata": {
    "collapsed": false,
    "ExecuteTime": {
     "end_time": "2024-03-31T15:49:51.834182Z",
     "start_time": "2024-03-31T15:49:51.825221Z"
    }
   },
   "id": "5c02653d8d06fb91",
   "execution_count": 14
  },
  {
   "cell_type": "markdown",
   "source": [
    "Now that we can see clearly the data we are working with, let us now convert the data into a numpy array for easier manipulation."
   ],
   "metadata": {
    "collapsed": false
   },
   "id": "8f78502a15716d1"
  },
  {
   "cell_type": "code",
   "outputs": [],
   "source": [
    "def convert_data_to_numpy(data: pd.DataFrame):\n",
    "    \"\"\"\n",
    "    Convert the data from a pandas DataFrame to a numpy array\n",
    "    :param data: the input data\n",
    "    \"\"\"\n",
    "    return data.to_numpy()"
   ],
   "metadata": {
    "collapsed": false,
    "ExecuteTime": {
     "end_time": "2024-03-31T15:49:52.148884Z",
     "start_time": "2024-03-31T15:49:52.146471Z"
    }
   },
   "id": "e2124aa2ac41d0bb",
   "execution_count": 15
  },
  {
   "cell_type": "code",
   "outputs": [
    {
     "data": {
      "text/plain": "array([[54, 83, 15, 71, 77, 36, 53, 38, 27, 87, 76, 91, 14, 29, 12, 77,\n        32, 87, 68, 94],\n       [79,  3, 11, 99, 56, 70, 99, 60,  5, 56,  3, 61, 73, 75, 47, 14,\n        21, 86,  5, 77],\n       [16, 89, 49, 15, 89, 45, 60, 23, 57, 64,  7,  1, 63, 41, 63, 47,\n        26, 75, 77, 40],\n       [66, 58, 31, 68, 78, 91, 13, 59, 49, 85, 85,  9, 39, 41, 56, 40,\n        54, 77, 51, 31],\n       [58, 56, 20, 85, 53, 35, 53, 41, 69, 13, 86, 72,  8, 49, 47, 87,\n        58, 18, 68, 28]], dtype=int64)"
     },
     "execution_count": 16,
     "metadata": {},
     "output_type": "execute_result"
    }
   ],
   "source": [
    "data = convert_data_to_numpy(data)\n",
    "data"
   ],
   "metadata": {
    "collapsed": false,
    "ExecuteTime": {
     "end_time": "2024-03-31T15:49:52.458390Z",
     "start_time": "2024-03-31T15:49:52.455093Z"
    }
   },
   "id": "5e12def8ebb71e8b",
   "execution_count": 16
  },
  {
   "cell_type": "markdown",
   "source": [
    "With the data now in a numpy array, we can now start implementing the permutation flowshop scheduling problem.\n",
    "\n",
    "We will start by defining the objective function for the problem. \n",
    "The objective function is the total time it takes to process the last job on the last machine, also known as the makespan.\n",
    "More specifically, the makespan is calculated as the sum of the processing times of each job on the last machine.\n",
    "\n",
    "### Variables:\n",
    "\n",
    "- $m$: Index for machines, $m = 1, 2, \\ldots, M$, where $M$ is the total number of machines.\n",
    "- $j$: Index for jobs, $j = 1, 2, \\ldots, N$, where $N$ is the total number of jobs.\n",
    "- $p_{mj}$: Processing time of job $j$ on machine $m$.\n",
    "- $seq$: A sequence (permutation) of jobs $j$, indicating the order in which jobs are processed.\n",
    "- $C_{mj}$: Completion time of job $j$ on machine $m$.\n",
    "- $C_{\\text{max}}$: Makespan, the total time to complete all jobs on all machines, which is the completion time of the last job on the last machine.\n",
    "\n",
    "### Makespan Calculation:\n",
    "\n",
    "1. **Initialization**: For the first job in the sequence ($j=1$) and the first machine ($m=1$), the completion time is simply the processing time of that job on that machine.\n",
    "\n",
    "$$C_{1,seq[1]} = p_{1,seq[1]}$$\n",
    "\n",
    "2. **First Machine**: For each subsequent job $j$ on the first machine ($m=1$), the completion time is the sum of its processing time and the completion time of the previous job.\n",
    "\n",
    "$$C_{1,seq[j]} = C_{1,seq[j-1]} + p_{1,seq[j]}, \\quad \\text{for } j = 2, 3, \\ldots, N$$\n",
    "\n",
    "3. **First Job on Subsequent Machines**: For the first job in the sequence on each subsequent machine $m$, the completion time is the sum of its processing time on the current machine and the completion time on the previous machine.\n",
    "\n",
    "$$C_{m,seq[1]} = C_{m-1,seq[1]} + p_{m,seq[1]}, \\quad \\text{for } m = 2, 3, \\ldots, M$$\n",
    "\n",
    "4. **Subsequent Jobs on Subsequent Machines**: For each subsequent job $j$ on each subsequent machine $m$, the completion time is the maximum of the completion time of the previous job on the current machine and the completion time of the current job on the previous machine, plus the processing time of the current job on the current machine.\n",
    "\n",
    "$$C_{m,seq[j]} = \\max(C_{m,seq[j-1]}, C_{m-1,seq[j]}) + p_{m,seq[j]}, \\quad \\text{for } m = 2, 3, \\ldots, M; \\, j = 2, 3, \\ldots, N$$\n",
    "\n",
    "5. **Makespan**: The makespan $C_{\\text{max}}$ is the completion time of the last job on the last machine.\n",
    "\n",
    "$$C_{\\text{max}} = C_{M,seq[N]}$$\n",
    "\n"
   ],
   "metadata": {
    "collapsed": false
   },
   "id": "f00efea31486e0b8"
  },
  {
   "cell_type": "markdown",
   "source": [
    "Now that we have defined the objective function, we can implement the function that calculates the makespan for a given sequence of jobs.\n",
    "\n"
   ],
   "metadata": {
    "collapsed": false
   },
   "id": "908311068b949596"
  },
  {
   "cell_type": "code",
   "outputs": [],
   "source": [
    "def calculate_makespan(data: np.ndarray, solution: np.ndarray) -> int:\n",
    "    \"\"\"\n",
    "    Calculate the makespan of a solution\n",
    "    :param data: The data in a numpy array\n",
    "    :param solution: The solution to evaluate\n",
    "    :return: The calculated makespan\n",
    "    \"\"\"\n",
    "    # Get the number of machines and jobs from the data\n",
    "    machines = data.shape[0]\n",
    "    jobs = data.shape[1]\n",
    "\n",
    "    # Initialize a matrix to store the completion times of each job on each machine\n",
    "    times = np.zeros((machines, jobs))\n",
    "\n",
    "    for m in range(machines):\n",
    "        for j in range(jobs):\n",
    "            # If we are in the first machine and in the first job\n",
    "            # We just input the processing time of the job\n",
    "            if m == 0 and j == 0:\n",
    "                times[m][j] = data[m][solution[j] - 1]\n",
    "            # If we are in the first machine but not in the first job\n",
    "            # We add the processing time of the job to the previous completion time\n",
    "            elif m == 0:\n",
    "                times[m][j] = times[m][j - 1] + data[m][solution[j] - 1]\n",
    "            # If we are in the first job but not in the first machine\n",
    "            # We add the processing time of the job to the previous completion time\n",
    "            elif j == 0:\n",
    "                times[m][j] = times[m - 1][j] + data[m][solution[j] - 1]\n",
    "            # If we are not in the first job or the first machine\n",
    "            # We add the processing time of the job to the maximum of the previous job on the machine\n",
    "            # or the previous machine on the job\n",
    "            else:\n",
    "                times[m][j] = max(times[m - 1][j], times[m][j - 1]) + data[m][solution[j] - 1]\n",
    "\n",
    "    # The makespan is the completion time of the last job on the last machine\n",
    "    # So the last element of the times matrix will be returned\n",
    "    return times[-1][-1]"
   ],
   "metadata": {
    "collapsed": false,
    "ExecuteTime": {
     "end_time": "2024-03-31T15:49:52.891200Z",
     "start_time": "2024-03-31T15:49:52.887027Z"
    }
   },
   "id": "fe54dd8bc61106b6",
   "execution_count": 17
  },
  {
   "cell_type": "markdown",
   "source": [
    "With the makespan function implemented, we can now start implementing the permutation flowshop scheduling problem.\n",
    "\n",
    "In order to solve the Ta001 problem, we will use the Genetic Algorithm (GA) optimization technique.\n",
    "\n",
    "The Genetic Algorithm (GA) is a search heuristic inspired by Charles Darwin's theory of natural evolution. It reflects the process of natural selection where the fittest individuals are selected for reproduction to produce offspring of the next generation. The algorithm repeatedly modifies a population of individual solutions. At each step, the GA selects individuals at random from the current population to be parents and uses them to produce the children for the next generation. Over successive generations, the population \"evolves\" toward an optimal solution.\n",
    "How the Genetic Algorithm works : \n",
    "\n",
    "1) **Initialization**: Start with a randomly generated population of nn chromosomes (possible solutions for the problem).\n",
    "\n",
    "2) **Fitness Calculation**: Evaluate the fitness f(x)f(x) of each chromosome xx in the population. The fitness score is an indication of how good a solution is relative to others.\n",
    "\n",
    "3) **Selection**: Select parent chromosomes for breeding. Parents are selected according to their fitness. The better the chromosomes are, the more chances they have to be selected for reproduction. This step mimics the \"survival of the fittest\" principle.\n",
    "\n",
    "4) **Crossover** (Recombination): Combine the genetic information of two parents to generate new offspring. There are various methods to perform crossover such as single-point crossover, multi-point crossover, and uniform crossover.\n",
    "\n",
    "5) **Mutation**: Apply random mutations to some offspring at some probability. This step introduces genetic diversity into the population, providing new genetic structures to explore.\n",
    "\n",
    "6) **Replacement**: Form a new population by selecting individuals from the current population and the offspring. This new generation is then used in the next iteration of the algorithm.\n",
    "\n",
    "7) **Termination**: Repeat the steps from Fitness Calculation to Replacement until a termination condition is met (e.g., a maximum number of generations is reached, or a satisfactory fitness level has been achieved)."
   ],
   "metadata": {
    "collapsed": false
   },
   "id": "356ae8ee8aff900f"
  },
  {
   "cell_type": "markdown",
   "source": [
    "In order to explain why the Genetic Algorithm is an appropriate choice for the PFSP, let us calculate the number of possible solutions for our problem.\n",
    "\n",
    "More specifically, the number of possible solutions for the PFSP is the factorial of the number of jobs as each job can be scheduled in a different position in the sequence.\n",
    "\n",
    "The factorial is calculated as follows:\n",
    "\n",
    "$$n! = n \\times (n-1) \\times (n-2) \\times \\ldots \\times 2 \\times 1$$\n",
    "\n",
    "Where $n$ is the number of jobs.\n",
    "\n",
    "\n"
   ],
   "metadata": {
    "collapsed": false
   },
   "id": "b6da34bd6e6f2de0"
  },
  {
   "cell_type": "code",
   "outputs": [
    {
     "data": {
      "text/plain": "2432902008176640000"
     },
     "execution_count": 18,
     "metadata": {},
     "output_type": "execute_result"
    }
   ],
   "source": [
    "# Calculate the number of possible solutions for the PFSP\n",
    "def calculate_possible_solutions(data: np.ndarray) -> int:\n",
    "    \"\"\"\n",
    "    Calculate the number of possible solutions for the PFSP\n",
    "    :param data: The data in a numpy array\n",
    "    :return: The number of possible solutions\n",
    "    \"\"\"\n",
    "    # Get the number of jobs from the data\n",
    "    jobs = data.shape[1]\n",
    "\n",
    "    # The number of possible solutions is the factorial of the number of jobs\n",
    "    return math.factorial(jobs)\n",
    "\n",
    "\n",
    "# Calculate the number of possible solutions\n",
    "possible_solutions = calculate_possible_solutions(data)\n",
    "possible_solutions"
   ],
   "metadata": {
    "collapsed": false,
    "ExecuteTime": {
     "end_time": "2024-03-31T15:49:53.360100Z",
     "start_time": "2024-03-31T15:49:53.357065Z"
    }
   },
   "id": "c0e1bea1c6040efb",
   "execution_count": 18
  },
  {
   "cell_type": "markdown",
   "source": [
    "We can see that the number of possible solutions for the PFSP is very large, even for a small number of jobs. This is due to the combinatorial nature of the problem, where each job can be scheduled in a different position in the sequence.\n",
    "\n",
    "The Genetic Algorithm is well-suited for combinatorial optimization problems like the PFSP because it can efficiently explore a large search space of possible solutions. By using techniques such as selection, crossover, and mutation, the Genetic Algorithm can find good solutions to complex optimization problems.\n",
    "\n",
    "While other algorithms such as simple heuristics or local search methods can also be used for the PFSP, the Genetic Algorithm provides a good balance between exploration and exploitation of the search space, making it a popular choice for solving combinatorial optimization problems.\n"
   ],
   "metadata": {
    "collapsed": false
   },
   "id": "b90e32a75ca2ed62"
  },
  {
   "cell_type": "markdown",
   "source": [
    "In our case, in order to find the optimal solution for the Ta001 problem, we will implement a **hybrid Genetic Algorithm** that \n",
    "exploits and an another metaheuristic algorithm, the **Tabu Search** algorithm, in order to improve the performance of the Genetic Algorithm.\n",
    "\n",
    "**Tabu Search**, developed by Fred Glover in 1986, is particularly known for its ability to escape local optima, a common challenge in optimization problems. It achieves this by maintaining a tabu list—a short-term memory of recently visited solutions (or moves that alter the current solution) that are temporarily banned or made \"tabu.\" This prevents the search from cycling back to previously explored solutions, encouraging exploration of new regions of the solution space.\n",
    "\n",
    "The key components of Tabu Search include:\n",
    "\n",
    "- **Tabu List**: A list that records certain attributes of the recently visited solutions (or the moves made) to prevent the algorithm from revisiting them. The list has a fixed length (tenure), after which the oldest entries are removed to make room for new ones.\n",
    "\n",
    "- **Aspiration Criteria**: Conditions under which the tabu status of a solution (or move) can be overridden. Typically, if a move leads to a solution better than any seen so far (even if the move is tabu), it may be accepted.\n",
    "\n",
    "- **Neighborhood Search**: At each iteration, Tabu Search examines the \"neighborhood\" of the current solution (solutions reachable from the current solution through a single move) and moves to the best solution in this neighborhood that is not tabu (unless overridden by the aspiration criteria).\n",
    "\n",
    "- **Diversification and Intensification Strategies**: Mechanisms to explore the solution space broadly (diversification) and to exploit promising regions of the solution space deeply (intensification)."
   ],
   "metadata": {
    "collapsed": false
   },
   "id": "447f8a05c98e5a5"
  },
  {
   "cell_type": "markdown",
   "source": [
    "---\n",
    "\n",
    "# Hybrid Genetic Algorithm Implementation\n",
    "\n",
    "Now that we have a good understanding of the Genetic Algorithm and Tabu Search, and why they are suitable for the PFSP, we can proceed with the implementation of the hybrid algorithm to solve our problem.\n",
    " \n",
    "The hybrid Genetic Algorithm with Tabu Search will combine the exploration capabilities of the Genetic Algorithm with the intensification capabilities of Tabu Search to find a good solution to the PFSP.\n",
    "\n",
    "With the Genetic Algorithm, we will explore the search space of possible solutions by generating and evolving populations of chromosomes. The Genetic Algorithm will use selection, crossover, and mutation operators to create new solutions and improve the population over multiple generations.\n",
    "\n",
    "With Tabu Search, we will intensify the search by exploring the neighborhood of the best solution found by the Genetic Algorithm. Tabu Search will use a tabu list to prevent cycling and encourage exploration of new regions of the solution space. More specifically, we will apply Tabu Search each 2 generations of the Genetic Algorithm at the 20% of the population in order to improve the performance of the Genetic Algorithm while improving the quality and diversity of the solutions."
   ],
   "metadata": {
    "collapsed": false
   },
   "id": "eb5bca77b762062"
  },
  {
   "cell_type": "markdown",
   "source": [
    "Having already defined the function that calculates the makespan for a given sequence of jobs, we can now continue to implement our solution.\n",
    "\n",
    "Let's start by defining the function that initializes the population for the Genetic Algorithm."
   ],
   "metadata": {
    "collapsed": false
   },
   "id": "34a864cbb7948b63"
  },
  {
   "cell_type": "code",
   "outputs": [],
   "source": [
    "def initialize_population(data: np.ndarray, pop_size: int) -> list:\n",
    "    \"\"\"\n",
    "    Initialize the population for the Genetic Algorithm\n",
    "    :param data: The data in a numpy array\n",
    "    :param pop_size: The size of the population\n",
    "    :return: The initialized population\n",
    "    \"\"\"\n",
    "    # Get the number of jobs from the data\n",
    "    jobs = data.shape[1]\n",
    "\n",
    "    return [np.random.permutation(jobs) + 1 for _ in range(pop_size)]"
   ],
   "metadata": {
    "collapsed": false,
    "ExecuteTime": {
     "end_time": "2024-03-31T16:02:28.592762Z",
     "start_time": "2024-03-31T16:02:28.589844Z"
    }
   },
   "id": "fc6422e84f62860b",
   "execution_count": 19
  },
  {
   "cell_type": "markdown",
   "source": [
    "Now let's implement the function that selects the best individuals from the population based on their fitness (makespan).\n",
    "Basically, this function is a tournament selection that selects the best individuals from the population based on their fitness (makespan)."
   ],
   "metadata": {
    "collapsed": false
   },
   "id": "e1e365e269732f57"
  },
  {
   "cell_type": "code",
   "outputs": [],
   "source": [
    "def tournament_selection(population: list, fitness: list, tournament_size: int) -> np.ndarray:\n",
    "    \"\"\"\n",
    "    Perform tournament selection on the population\n",
    "    :param population: The population to select from\n",
    "    :param fitness: The fitness values of the population\n",
    "    :param tournament_size: The size of the tournament\n",
    "    :return: The selected individual\n",
    "    \"\"\"\n",
    "    # Choose random indices for the tournament\n",
    "    selected_indices = np.random.choice(range(len(population)), tournament_size)\n",
    "    # Get the makespan values of the selected individuals\n",
    "    selected_fitness = [fitness[i] for i in selected_indices]\n",
    "    # Select the winner of the tournament\n",
    "    winner_index = selected_indices[np.argmin(selected_fitness)]\n",
    "    # Return the winner of the tournament\n",
    "    return population[winner_index]"
   ],
   "metadata": {
    "collapsed": false,
    "ExecuteTime": {
     "end_time": "2024-03-31T16:06:57.244367Z",
     "start_time": "2024-03-31T16:06:57.241220Z"
    }
   },
   "id": "865a6124a999f51c",
   "execution_count": 20
  },
  {
   "cell_type": "markdown",
   "source": [
    "Now, let's implement the function that performs the crossover operation on two parent individuals to produce two offspring individuals."
   ],
   "metadata": {
    "collapsed": false
   },
   "id": "98891407afb7c4f0"
  },
  {
   "cell_type": "code",
   "outputs": [],
   "source": [
    "def ordered_crossover(parent1: np.ndarray, parent2: np.ndarray) -> np.ndarray:\n",
    "    \"\"\"\n",
    "    Perform ordered crossover on two parents\n",
    "    :param parent1: The first parent\n",
    "    :param parent2: The second parent\n",
    "    :return: The children produced by the crossover\n",
    "    \"\"\"\n",
    "    # Get the parent size\n",
    "    size = len(parent1)\n",
    "    # Initialize the child with the same size as the parents\n",
    "    child = np.full(size, None, dtype=object)\n",
    "    # Choose two random indices for the crossover\n",
    "    start, end = sorted(np.random.choice(range(size), size=2, replace=False))\n",
    "    # Copy the selected part of the first parent to the child\n",
    "    child[start:end + 1] = parent1[start:end + 1]\n",
    "    # Get the values that are not in the child from the second parent\n",
    "    fill_values = [item for item in parent2 if item not in child]\n",
    "    # Get the indices that need to be filled\n",
    "    fill_pos = [i for i in range(size) if child[i] is None]\n",
    "    # Fill the child with the values from the second parent\n",
    "    for i, value in zip(fill_pos, fill_values):\n",
    "        child[i] = value\n",
    "    return child"
   ],
   "metadata": {
    "collapsed": false,
    "ExecuteTime": {
     "end_time": "2024-03-31T16:12:57.056508Z",
     "start_time": "2024-03-31T16:12:57.052897Z"
    }
   },
   "id": "31c44f6cc256df81",
   "execution_count": 21
  },
  {
   "cell_type": "markdown",
   "source": [
    "Now, let's implement the mutation function that performs swap"
   ],
   "metadata": {
    "collapsed": false
   },
   "id": "5fbb2d957826ee31"
  }
 ],
 "metadata": {
  "kernelspec": {
   "display_name": "Python 3",
   "language": "python",
   "name": "python3"
  },
  "language_info": {
   "codemirror_mode": {
    "name": "ipython",
    "version": 2
   },
   "file_extension": ".py",
   "mimetype": "text/x-python",
   "name": "python",
   "nbconvert_exporter": "python",
   "pygments_lexer": "ipython2",
   "version": "2.7.6"
  }
 },
 "nbformat": 4,
 "nbformat_minor": 5
}
