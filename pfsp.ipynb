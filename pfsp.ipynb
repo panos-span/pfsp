{
 "cells": [
  {
   "cell_type": "markdown",
   "source": [
    "# Permutation Flowshop Scheduling Problem (PFSP)\n",
    "\n",
    "The Permutation Flowshop Scheduling Problem (PFSP) is a well-known combinatorial optimization problem. The problem is defined as follows:\n",
    "\n",
    " Given a set of jobs $J = \\{J_1, J_2, \\ldots, J_n\\}$ and a set of machines $M = \\{M_1, M_2, \\ldots, M_m\\}$, where each job $J_i$ consists of $m$ operations, one for each machine, the objective is to find a permutation of the jobs that minimizes the makespan, i.e., the total time it takes to process all jobs on all machines.\n",
    "\n",
    "\n",
    "---\n",
    ">Spanakis Panagiotis-Alexios, Pregraduate Student\n",
    "Department of Management Science and Technology\n",
    "Athens University of Economics and Business\n",
    "t8200158@aueb.gr"
   ],
   "metadata": {
    "collapsed": false
   },
   "id": "b06ddae3bc36874"
  },
  {
   "cell_type": "markdown",
   "source": [
    "## Before we start\n",
    "\n",
    "We first need to go over the dependencies needed for this notebook to function properly. \n",
    "\n",
    "We will be using the following libraries:\n",
    "\n",
    "- numpy: For numerical operations and more efficient matrix operations\n",
    "- pandas: For data manipulation, more specifically for reading the data from the provided files\n",
    "\n",
    "To install the required libraries, run the following command:"
   ],
   "metadata": {
    "collapsed": false
   },
   "id": "3bb5359f3c26a64e"
  },
  {
   "cell_type": "code",
   "outputs": [],
   "source": [
    "!pip install -r requirements.txt"
   ],
   "metadata": {
    "collapsed": false
   },
   "id": "569b1f12c72d1c30"
  },
  {
   "cell_type": "markdown",
   "source": [
    "## Importing the necessary libraries\n",
    "\n",
    "We will start by importing the necessary libraries for this notebook.\n",
    "\n"
   ],
   "metadata": {
    "collapsed": false
   },
   "id": "cdfc08a03e7206f8"
  },
  {
   "cell_type": "code",
   "outputs": [],
   "source": [
    "import numpy as np\n",
    "import pandas as pd"
   ],
   "metadata": {
    "collapsed": false,
    "ExecuteTime": {
     "end_time": "2024-03-31T11:30:04.177135Z",
     "start_time": "2024-03-31T11:30:03.598692Z"
    }
   },
   "id": "a2b150af0d2c1856",
   "execution_count": 2
  },
  {
   "cell_type": "markdown",
   "source": [
    "## Reading the data\n",
    "\n",
    "We will start by reading the data from the provided file `input.csv`. The file contains the processing times for each job on each machine.\n",
    "\n",
    "Let's create a function that reads the data from the file."
   ],
   "metadata": {
    "collapsed": false
   },
   "id": "89b08033ba8e4cd8"
  },
  {
   "cell_type": "code",
   "outputs": [],
   "source": [
    "def read_data(data_path: str):\n",
    "    \"\"\"\n",
    "    Load data from the input file into a pandas DataFrame\n",
    "    :param data_path: the path to the input file\n",
    "    \"\"\"\n",
    "    data = pd.read_csv(data_path, header=None)\n",
    "    # Create columns J1 - J20 and name the rows M1 to M5\n",
    "    data.columns = ['J' + str(i) for i in range(1, data.shape[1] + 1)]\n",
    "    data.index = ['M' + str(i) for i in range(1, data.shape[0] + 1)] \n",
    "    return data"
   ],
   "metadata": {
    "collapsed": false,
    "ExecuteTime": {
     "end_time": "2024-03-31T11:32:11.319008Z",
     "start_time": "2024-03-31T11:32:11.315965Z"
    }
   },
   "id": "cc3f7da8745b5f96",
   "execution_count": 11
  },
  {
   "cell_type": "markdown",
   "source": [
    "Now, let's read the data from the file `input.csv` and display the data."
   ],
   "metadata": {
    "collapsed": false
   },
   "id": "d361e1c05ebf9ef5"
  },
  {
   "cell_type": "code",
   "outputs": [
    {
     "data": {
      "text/plain": "    J1  J2  J3  J4  J5  J6  J7  J8  J9  J10  J11  J12  J13  J14  J15  J16  \\\nM1  54  83  15  71  77  36  53  38  27   87   76   91   14   29   12   77   \nM2  79   3  11  99  56  70  99  60   5   56    3   61   73   75   47   14   \nM3  16  89  49  15  89  45  60  23  57   64    7    1   63   41   63   47   \nM4  66  58  31  68  78  91  13  59  49   85   85    9   39   41   56   40   \nM5  58  56  20  85  53  35  53  41  69   13   86   72    8   49   47   87   \n\n    J17  J18  J19  J20  \nM1   32   87   68   94  \nM2   21   86    5   77  \nM3   26   75   77   40  \nM4   54   77   51   31  \nM5   58   18   68   28  ",
      "text/html": "<div>\n<style scoped>\n    .dataframe tbody tr th:only-of-type {\n        vertical-align: middle;\n    }\n\n    .dataframe tbody tr th {\n        vertical-align: top;\n    }\n\n    .dataframe thead th {\n        text-align: right;\n    }\n</style>\n<table border=\"1\" class=\"dataframe\">\n  <thead>\n    <tr style=\"text-align: right;\">\n      <th></th>\n      <th>J1</th>\n      <th>J2</th>\n      <th>J3</th>\n      <th>J4</th>\n      <th>J5</th>\n      <th>J6</th>\n      <th>J7</th>\n      <th>J8</th>\n      <th>J9</th>\n      <th>J10</th>\n      <th>J11</th>\n      <th>J12</th>\n      <th>J13</th>\n      <th>J14</th>\n      <th>J15</th>\n      <th>J16</th>\n      <th>J17</th>\n      <th>J18</th>\n      <th>J19</th>\n      <th>J20</th>\n    </tr>\n  </thead>\n  <tbody>\n    <tr>\n      <th>M1</th>\n      <td>54</td>\n      <td>83</td>\n      <td>15</td>\n      <td>71</td>\n      <td>77</td>\n      <td>36</td>\n      <td>53</td>\n      <td>38</td>\n      <td>27</td>\n      <td>87</td>\n      <td>76</td>\n      <td>91</td>\n      <td>14</td>\n      <td>29</td>\n      <td>12</td>\n      <td>77</td>\n      <td>32</td>\n      <td>87</td>\n      <td>68</td>\n      <td>94</td>\n    </tr>\n    <tr>\n      <th>M2</th>\n      <td>79</td>\n      <td>3</td>\n      <td>11</td>\n      <td>99</td>\n      <td>56</td>\n      <td>70</td>\n      <td>99</td>\n      <td>60</td>\n      <td>5</td>\n      <td>56</td>\n      <td>3</td>\n      <td>61</td>\n      <td>73</td>\n      <td>75</td>\n      <td>47</td>\n      <td>14</td>\n      <td>21</td>\n      <td>86</td>\n      <td>5</td>\n      <td>77</td>\n    </tr>\n    <tr>\n      <th>M3</th>\n      <td>16</td>\n      <td>89</td>\n      <td>49</td>\n      <td>15</td>\n      <td>89</td>\n      <td>45</td>\n      <td>60</td>\n      <td>23</td>\n      <td>57</td>\n      <td>64</td>\n      <td>7</td>\n      <td>1</td>\n      <td>63</td>\n      <td>41</td>\n      <td>63</td>\n      <td>47</td>\n      <td>26</td>\n      <td>75</td>\n      <td>77</td>\n      <td>40</td>\n    </tr>\n    <tr>\n      <th>M4</th>\n      <td>66</td>\n      <td>58</td>\n      <td>31</td>\n      <td>68</td>\n      <td>78</td>\n      <td>91</td>\n      <td>13</td>\n      <td>59</td>\n      <td>49</td>\n      <td>85</td>\n      <td>85</td>\n      <td>9</td>\n      <td>39</td>\n      <td>41</td>\n      <td>56</td>\n      <td>40</td>\n      <td>54</td>\n      <td>77</td>\n      <td>51</td>\n      <td>31</td>\n    </tr>\n    <tr>\n      <th>M5</th>\n      <td>58</td>\n      <td>56</td>\n      <td>20</td>\n      <td>85</td>\n      <td>53</td>\n      <td>35</td>\n      <td>53</td>\n      <td>41</td>\n      <td>69</td>\n      <td>13</td>\n      <td>86</td>\n      <td>72</td>\n      <td>8</td>\n      <td>49</td>\n      <td>47</td>\n      <td>87</td>\n      <td>58</td>\n      <td>18</td>\n      <td>68</td>\n      <td>28</td>\n    </tr>\n  </tbody>\n</table>\n</div>"
     },
     "execution_count": 12,
     "metadata": {},
     "output_type": "execute_result"
    }
   ],
   "source": [
    "data_path = 'input.csv'\n",
    "data = read_data(data_path)\n",
    "data"
   ],
   "metadata": {
    "collapsed": false,
    "ExecuteTime": {
     "end_time": "2024-03-31T11:32:12.064792Z",
     "start_time": "2024-03-31T11:32:12.049598Z"
    }
   },
   "id": "5c02653d8d06fb91",
   "execution_count": 12
  },
  {
   "cell_type": "markdown",
   "source": [
    "Now that we can see clearly the data we are working with, let us now convert the data into a numpy array for easier manipulation."
   ],
   "metadata": {
    "collapsed": false
   },
   "id": "8f78502a15716d1"
  },
  {
   "cell_type": "code",
   "outputs": [],
   "source": [
    "def convert_data_to_numpy(data: pd.DataFrame):\n",
    "    \"\"\"\n",
    "    Convert the data from a pandas DataFrame to a numpy array\n",
    "    :param data: the input data\n",
    "    \"\"\"\n",
    "    return data.to_numpy()"
   ],
   "metadata": {
    "collapsed": false,
    "ExecuteTime": {
     "end_time": "2024-03-31T11:33:01.182923Z",
     "start_time": "2024-03-31T11:33:01.180955Z"
    }
   },
   "id": "e2124aa2ac41d0bb",
   "execution_count": 13
  },
  {
   "cell_type": "code",
   "outputs": [
    {
     "data": {
      "text/plain": "array([[54, 83, 15, 71, 77, 36, 53, 38, 27, 87, 76, 91, 14, 29, 12, 77,\n        32, 87, 68, 94],\n       [79,  3, 11, 99, 56, 70, 99, 60,  5, 56,  3, 61, 73, 75, 47, 14,\n        21, 86,  5, 77],\n       [16, 89, 49, 15, 89, 45, 60, 23, 57, 64,  7,  1, 63, 41, 63, 47,\n        26, 75, 77, 40],\n       [66, 58, 31, 68, 78, 91, 13, 59, 49, 85, 85,  9, 39, 41, 56, 40,\n        54, 77, 51, 31],\n       [58, 56, 20, 85, 53, 35, 53, 41, 69, 13, 86, 72,  8, 49, 47, 87,\n        58, 18, 68, 28]], dtype=int64)"
     },
     "execution_count": 14,
     "metadata": {},
     "output_type": "execute_result"
    }
   ],
   "source": [
    "data = convert_data_to_numpy(data)\n",
    "data"
   ],
   "metadata": {
    "collapsed": false,
    "ExecuteTime": {
     "end_time": "2024-03-31T11:33:08.839366Z",
     "start_time": "2024-03-31T11:33:08.836644Z"
    }
   },
   "id": "5e12def8ebb71e8b",
   "execution_count": 14
  },
  {
   "cell_type": "markdown",
   "source": [
    "With the data now in a numpy array, we can now start implementing the permutation flowshop scheduling problem.\n",
    "\n",
    "We will start by defining the objective function for the problem. \n",
    "The objective function is the total time it takes to process the last job on the last machine, also known as the makespan.\n",
    "More specifically, the makespan is calculated as the sum of the processing times of each job on the last machine.\n",
    "\n",
    "### Variables:\n",
    "\n",
    "- $m$: Index for machines, $m = 1, 2, \\ldots, M$, where $M$ is the total number of machines.\n",
    "- $j$: Index for jobs, $j = 1, 2, \\ldots, N$, where $N$ is the total number of jobs.\n",
    "- $p_{mj}$: Processing time of job $j$ on machine $m$.\n",
    "- $seq$: A sequence (permutation) of jobs $j$, indicating the order in which jobs are processed.\n",
    "- $C_{mj}$: Completion time of job $j$ on machine $m$.\n",
    "- $C_{\\text{max}}$: Makespan, the total time to complete all jobs on all machines, which is the completion time of the last job on the last machine.\n",
    "\n",
    "### Makespan Calculation:\n",
    "\n",
    "1. **Initialization**: For the first job in the sequence ($j=1$) and the first machine ($m=1$), the completion time is simply the processing time of that job on that machine.\n",
    "\n",
    "$$C_{1,seq[1]} = p_{1,seq[1]}$$\n",
    "\n",
    "2. **First Machine**: For each subsequent job $j$ on the first machine ($m=1$), the completion time is the sum of its processing time and the completion time of the previous job.\n",
    "\n",
    "$$C_{1,seq[j]} = C_{1,seq[j-1]} + p_{1,seq[j]}, \\quad \\text{for } j = 2, 3, \\ldots, N$$\n",
    "\n",
    "3. **First Job on Subsequent Machines**: For the first job in the sequence on each subsequent machine $m$, the completion time is the sum of its processing time on the current machine and the completion time on the previous machine.\n",
    "\n",
    "$$C_{m,seq[1]} = C_{m-1,seq[1]} + p_{m,seq[1]}, \\quad \\text{for } m = 2, 3, \\ldots, M$$\n",
    "\n",
    "4. **Subsequent Jobs on Subsequent Machines**: For each subsequent job $j$ on each subsequent machine $m$, the completion time is the maximum of the completion time of the previous job on the current machine and the completion time of the current job on the previous machine, plus the processing time of the current job on the current machine.\n",
    "\n",
    "$$C_{m,seq[j]} = \\max(C_{m,seq[j-1]}, C_{m-1,seq[j]}) + p_{m,seq[j]}, \\quad \\text{for } m = 2, 3, \\ldots, M; \\, j = 2, 3, \\ldots, N$$\n",
    "\n",
    "5. **Makespan**: The makespan $C_{\\text{max}}$ is the completion time of the last job on the last machine.\n",
    "\n",
    "$$C_{\\text{max}} = C_{M,seq[N]}$$\n",
    "\n"
   ],
   "metadata": {
    "collapsed": false
   },
   "id": "f00efea31486e0b8"
  },
  {
   "cell_type": "markdown",
   "source": [
    "Now that we have defined the objective function, we can implement the function that calculates the makespan for a given sequence of jobs.\n",
    "\n"
   ],
   "metadata": {
    "collapsed": false
   },
   "id": "908311068b949596"
  },
  {
   "cell_type": "code",
   "outputs": [],
   "source": [],
   "metadata": {
    "collapsed": false
   },
   "id": "fe54dd8bc61106b6"
  }
 ],
 "metadata": {
  "kernelspec": {
   "display_name": "Python 3",
   "language": "python",
   "name": "python3"
  },
  "language_info": {
   "codemirror_mode": {
    "name": "ipython",
    "version": 2
   },
   "file_extension": ".py",
   "mimetype": "text/x-python",
   "name": "python",
   "nbconvert_exporter": "python",
   "pygments_lexer": "ipython2",
   "version": "2.7.6"
  }
 },
 "nbformat": 4,
 "nbformat_minor": 5
}
