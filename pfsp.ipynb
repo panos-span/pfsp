{
 "cells": [
  {
   "cell_type": "markdown",
   "source": [
    "# Permutation Flowshop Scheduling Problem (PFSP)\n",
    "\n",
    "The Permutation Flowshop Scheduling Problem (PFSP) is a well-known combinatorial optimization problem. The problem is defined as follows:\n",
    "\n",
    " Given a set of jobs $J = \\{J_1, J_2, \\ldots, J_n\\}$ and a set of machines $M = \\{M_1, M_2, \\ldots, M_m\\}$, where each job $J_i$ consists of $m$ operations, one for each machine, the objective is to find a permutation of the jobs that minimizes the makespan, i.e., the total time it takes to process all jobs on all machines.\n",
    "\n",
    "\n",
    "---\n",
    ">Spanakis Panagiotis-Alexios, Pregraduate Student\n",
    "Department of Management Science and Technology\n",
    "Athens University of Economics and Business\n",
    "t8200158@aueb.gr"
   ],
   "metadata": {
    "collapsed": false
   },
   "id": "b06ddae3bc36874"
  },
  {
   "cell_type": "markdown",
   "source": [
    "## Before we start\n",
    "\n",
    "We first need to go over the dependencies needed for this notebook to function properly. \n",
    "\n",
    "We will be using the following libraries:\n",
    "\n",
    "- numpy: For numerical operations and more efficient matrix operations\n",
    "- pandas: For data manipulation, more specifically for reading the data from the provided files\n",
    "- math: For the calculation of the factorial of a number\n",
    "- collections: For the implementation of the tabu list in the Tabu Search algorithm\n",
    "- typing: For type hints in the function definitions\n",
    "- time: For measuring the time taken to find the optimal solution\n",
    "- optuna: For hyperparameter optimization\n",
    "- json: For saving the optimal hyperparameters to a json file\n",
    "\n",
    "To install the required libraries, run the following command:"
   ],
   "metadata": {
    "collapsed": false
   },
   "id": "3bb5359f3c26a64e"
  },
  {
   "cell_type": "code",
   "source": [
    "!pip install -r requirements.txt"
   ],
   "metadata": {
    "collapsed": false,
    "ExecuteTime": {
     "end_time": "2024-04-08T18:36:58.114958Z",
     "start_time": "2024-04-08T18:36:51.313423Z"
    }
   },
   "id": "569b1f12c72d1c30",
   "outputs": [
    {
     "name": "stdout",
     "output_type": "stream",
     "text": [
      "Looking in indexes: https://pypi.org/simple, https://pypi.ngc.nvidia.com\n",
      "Requirement already satisfied: pandas in c:\\users\\panagiotis\\appdata\\local\\programs\\python\\python311\\lib\\site-packages (from -r requirements.txt (line 1)) (2.1.1)\n",
      "Requirement already satisfied: numpy in c:\\users\\panagiotis\\appdata\\local\\programs\\python\\python311\\lib\\site-packages (from -r requirements.txt (line 2)) (1.26.4)\n",
      "Requirement already satisfied: optuna in c:\\users\\panagiotis\\appdata\\local\\programs\\python\\python311\\lib\\site-packages (from -r requirements.txt (line 3)) (3.5.0)\n",
      "Requirement already satisfied: python-dateutil>=2.8.2 in c:\\users\\panagiotis\\appdata\\local\\programs\\python\\python311\\lib\\site-packages (from pandas->-r requirements.txt (line 1)) (2.8.2)\n",
      "Requirement already satisfied: pytz>=2020.1 in c:\\users\\panagiotis\\appdata\\local\\programs\\python\\python311\\lib\\site-packages (from pandas->-r requirements.txt (line 1)) (2023.3.post1)\n",
      "Requirement already satisfied: tzdata>=2022.1 in c:\\users\\panagiotis\\appdata\\local\\programs\\python\\python311\\lib\\site-packages (from pandas->-r requirements.txt (line 1)) (2023.3)\n",
      "Requirement already satisfied: alembic>=1.5.0 in c:\\users\\panagiotis\\appdata\\local\\programs\\python\\python311\\lib\\site-packages (from optuna->-r requirements.txt (line 3)) (1.8.1)\n",
      "Requirement already satisfied: colorlog in c:\\users\\panagiotis\\appdata\\local\\programs\\python\\python311\\lib\\site-packages (from optuna->-r requirements.txt (line 3)) (4.8.0)\n",
      "Requirement already satisfied: packaging>=20.0 in c:\\users\\panagiotis\\appdata\\local\\programs\\python\\python311\\lib\\site-packages (from optuna->-r requirements.txt (line 3)) (23.2)\n",
      "Requirement already satisfied: sqlalchemy>=1.3.0 in c:\\users\\panagiotis\\appdata\\local\\programs\\python\\python311\\lib\\site-packages (from optuna->-r requirements.txt (line 3)) (1.4.41)\n",
      "Requirement already satisfied: tqdm in c:\\users\\panagiotis\\appdata\\local\\programs\\python\\python311\\lib\\site-packages (from optuna->-r requirements.txt (line 3)) (4.66.1)\n",
      "Requirement already satisfied: PyYAML in c:\\users\\panagiotis\\appdata\\local\\programs\\python\\python311\\lib\\site-packages (from optuna->-r requirements.txt (line 3)) (6.0.1)\n",
      "Requirement already satisfied: Mako in c:\\users\\panagiotis\\appdata\\local\\programs\\python\\python311\\lib\\site-packages (from alembic>=1.5.0->optuna->-r requirements.txt (line 3)) (1.2.4)\n",
      "Requirement already satisfied: six>=1.5 in c:\\users\\panagiotis\\appdata\\local\\programs\\python\\python311\\lib\\site-packages (from python-dateutil>=2.8.2->pandas->-r requirements.txt (line 1)) (1.16.0)\n",
      "Requirement already satisfied: greenlet!=0.4.17 in c:\\users\\panagiotis\\appdata\\local\\programs\\python\\python311\\lib\\site-packages (from sqlalchemy>=1.3.0->optuna->-r requirements.txt (line 3)) (3.0.1)\n",
      "Requirement already satisfied: colorama in c:\\users\\panagiotis\\appdata\\local\\programs\\python\\python311\\lib\\site-packages (from colorlog->optuna->-r requirements.txt (line 3)) (0.4.6)\n",
      "Requirement already satisfied: MarkupSafe>=0.9.2 in c:\\users\\panagiotis\\appdata\\local\\programs\\python\\python311\\lib\\site-packages (from Mako->alembic>=1.5.0->optuna->-r requirements.txt (line 3)) (2.1.3)\n"
     ]
    },
    {
     "name": "stderr",
     "output_type": "stream",
     "text": [
      "WARNING: Skipping c:\\users\\panagiotis\\appdata\\local\\programs\\python\\python311\\Lib\\site-packages\\numpy-1.26.0.dist-info due to invalid metadata entry 'name'\n",
      "WARNING: Skipping c:\\users\\panagiotis\\appdata\\local\\programs\\python\\python311\\Lib\\site-packages\\numpy-1.26.0.dist-info due to invalid metadata entry 'name'\n",
      "DEPRECATION: Loading egg at c:\\users\\panagiotis\\appdata\\local\\programs\\python\\python311\\lib\\site-packages\\spherecluster-0.1.7-py3.11.egg is deprecated. pip 24.3 will enforce this behaviour change. A possible replacement is to use pip for package installation.. Discussion can be found at https://github.com/pypa/pip/issues/12330\n",
      "WARNING: Skipping c:\\users\\panagiotis\\appdata\\local\\programs\\python\\python311\\Lib\\site-packages\\numpy-1.26.0.dist-info due to invalid metadata entry 'name'\n",
      "WARNING: Skipping c:\\users\\panagiotis\\appdata\\local\\programs\\python\\python311\\Lib\\site-packages\\numpy-1.26.0.dist-info due to invalid metadata entry 'name'\n",
      "WARNING: Skipping c:\\users\\panagiotis\\appdata\\local\\programs\\python\\python311\\Lib\\site-packages\\numpy-1.26.0.dist-info due to invalid metadata entry 'name'\n",
      "WARNING: Skipping c:\\users\\panagiotis\\appdata\\local\\programs\\python\\python311\\Lib\\site-packages\\numpy-1.26.0.dist-info due to invalid metadata entry 'name'\n"
     ]
    }
   ],
   "execution_count": 1
  },
  {
   "cell_type": "markdown",
   "source": [
    "## Importing the necessary libraries\n",
    "\n",
    "We will start by importing the necessary libraries for this notebook.\n",
    "\n"
   ],
   "metadata": {
    "collapsed": false
   },
   "id": "cdfc08a03e7206f8"
  },
  {
   "cell_type": "code",
   "source": [
    "import numpy as np\n",
    "import pandas as pd\n",
    "import math\n",
    "from collections import deque\n",
    "from typing import Tuple\n",
    "from time import time\n",
    "import optuna\n",
    "import json"
   ],
   "metadata": {
    "collapsed": false,
    "ExecuteTime": {
     "end_time": "2024-04-08T18:36:58.970381Z",
     "start_time": "2024-04-08T18:36:58.114958Z"
    }
   },
   "id": "a2b150af0d2c1856",
   "outputs": [],
   "execution_count": 2
  },
  {
   "cell_type": "markdown",
   "source": [
    "## Reading the data\n",
    "\n",
    "We will start by reading the data from the provided file `input.csv`. The file contains the processing times for each job on each machine.\n",
    "\n",
    "Let's create a function that reads the data from the file."
   ],
   "metadata": {
    "collapsed": false
   },
   "id": "89b08033ba8e4cd8"
  },
  {
   "cell_type": "code",
   "source": [
    "def read_data(data_path: str):\n",
    "    \"\"\"\n",
    "    Load data from the input file into a pandas DataFrame\n",
    "    :param data_path: the path to the input file\n",
    "    \"\"\"\n",
    "    data = pd.read_csv(data_path, header=None)\n",
    "    # Create columns J1 - J20 and name the rows M1 to M5\n",
    "    data.columns = ['J' + str(i) for i in range(1, data.shape[1] + 1)]\n",
    "    data.index = ['M' + str(i) for i in range(1, data.shape[0] + 1)]\n",
    "    return data"
   ],
   "metadata": {
    "collapsed": false,
    "ExecuteTime": {
     "end_time": "2024-04-08T18:36:58.973845Z",
     "start_time": "2024-04-08T18:36:58.970381Z"
    }
   },
   "id": "cc3f7da8745b5f96",
   "outputs": [],
   "execution_count": 3
  },
  {
   "cell_type": "markdown",
   "source": [
    "Now, let's read the data from the file `input.csv` and display the data."
   ],
   "metadata": {
    "collapsed": false
   },
   "id": "d361e1c05ebf9ef5"
  },
  {
   "cell_type": "code",
   "source": [
    "data_path = 'input.csv'\n",
    "data = read_data(data_path)\n",
    "data"
   ],
   "metadata": {
    "collapsed": false,
    "ExecuteTime": {
     "end_time": "2024-04-08T18:36:58.991925Z",
     "start_time": "2024-04-08T18:36:58.974854Z"
    }
   },
   "id": "5c02653d8d06fb91",
   "outputs": [
    {
     "data": {
      "text/plain": [
       "    J1  J2  J3  J4  J5  J6  J7  J8  J9  J10  J11  J12  J13  J14  J15  J16  \\\n",
       "M1  54  83  15  71  77  36  53  38  27   87   76   91   14   29   12   77   \n",
       "M2  79   3  11  99  56  70  99  60   5   56    3   61   73   75   47   14   \n",
       "M3  16  89  49  15  89  45  60  23  57   64    7    1   63   41   63   47   \n",
       "M4  66  58  31  68  78  91  13  59  49   85   85    9   39   41   56   40   \n",
       "M5  58  56  20  85  53  35  53  41  69   13   86   72    8   49   47   87   \n",
       "\n",
       "    J17  J18  J19  J20  \n",
       "M1   32   87   68   94  \n",
       "M2   21   86    5   77  \n",
       "M3   26   75   77   40  \n",
       "M4   54   77   51   31  \n",
       "M5   58   18   68   28  "
      ],
      "text/html": [
       "<div>\n",
       "<style scoped>\n",
       "    .dataframe tbody tr th:only-of-type {\n",
       "        vertical-align: middle;\n",
       "    }\n",
       "\n",
       "    .dataframe tbody tr th {\n",
       "        vertical-align: top;\n",
       "    }\n",
       "\n",
       "    .dataframe thead th {\n",
       "        text-align: right;\n",
       "    }\n",
       "</style>\n",
       "<table border=\"1\" class=\"dataframe\">\n",
       "  <thead>\n",
       "    <tr style=\"text-align: right;\">\n",
       "      <th></th>\n",
       "      <th>J1</th>\n",
       "      <th>J2</th>\n",
       "      <th>J3</th>\n",
       "      <th>J4</th>\n",
       "      <th>J5</th>\n",
       "      <th>J6</th>\n",
       "      <th>J7</th>\n",
       "      <th>J8</th>\n",
       "      <th>J9</th>\n",
       "      <th>J10</th>\n",
       "      <th>J11</th>\n",
       "      <th>J12</th>\n",
       "      <th>J13</th>\n",
       "      <th>J14</th>\n",
       "      <th>J15</th>\n",
       "      <th>J16</th>\n",
       "      <th>J17</th>\n",
       "      <th>J18</th>\n",
       "      <th>J19</th>\n",
       "      <th>J20</th>\n",
       "    </tr>\n",
       "  </thead>\n",
       "  <tbody>\n",
       "    <tr>\n",
       "      <th>M1</th>\n",
       "      <td>54</td>\n",
       "      <td>83</td>\n",
       "      <td>15</td>\n",
       "      <td>71</td>\n",
       "      <td>77</td>\n",
       "      <td>36</td>\n",
       "      <td>53</td>\n",
       "      <td>38</td>\n",
       "      <td>27</td>\n",
       "      <td>87</td>\n",
       "      <td>76</td>\n",
       "      <td>91</td>\n",
       "      <td>14</td>\n",
       "      <td>29</td>\n",
       "      <td>12</td>\n",
       "      <td>77</td>\n",
       "      <td>32</td>\n",
       "      <td>87</td>\n",
       "      <td>68</td>\n",
       "      <td>94</td>\n",
       "    </tr>\n",
       "    <tr>\n",
       "      <th>M2</th>\n",
       "      <td>79</td>\n",
       "      <td>3</td>\n",
       "      <td>11</td>\n",
       "      <td>99</td>\n",
       "      <td>56</td>\n",
       "      <td>70</td>\n",
       "      <td>99</td>\n",
       "      <td>60</td>\n",
       "      <td>5</td>\n",
       "      <td>56</td>\n",
       "      <td>3</td>\n",
       "      <td>61</td>\n",
       "      <td>73</td>\n",
       "      <td>75</td>\n",
       "      <td>47</td>\n",
       "      <td>14</td>\n",
       "      <td>21</td>\n",
       "      <td>86</td>\n",
       "      <td>5</td>\n",
       "      <td>77</td>\n",
       "    </tr>\n",
       "    <tr>\n",
       "      <th>M3</th>\n",
       "      <td>16</td>\n",
       "      <td>89</td>\n",
       "      <td>49</td>\n",
       "      <td>15</td>\n",
       "      <td>89</td>\n",
       "      <td>45</td>\n",
       "      <td>60</td>\n",
       "      <td>23</td>\n",
       "      <td>57</td>\n",
       "      <td>64</td>\n",
       "      <td>7</td>\n",
       "      <td>1</td>\n",
       "      <td>63</td>\n",
       "      <td>41</td>\n",
       "      <td>63</td>\n",
       "      <td>47</td>\n",
       "      <td>26</td>\n",
       "      <td>75</td>\n",
       "      <td>77</td>\n",
       "      <td>40</td>\n",
       "    </tr>\n",
       "    <tr>\n",
       "      <th>M4</th>\n",
       "      <td>66</td>\n",
       "      <td>58</td>\n",
       "      <td>31</td>\n",
       "      <td>68</td>\n",
       "      <td>78</td>\n",
       "      <td>91</td>\n",
       "      <td>13</td>\n",
       "      <td>59</td>\n",
       "      <td>49</td>\n",
       "      <td>85</td>\n",
       "      <td>85</td>\n",
       "      <td>9</td>\n",
       "      <td>39</td>\n",
       "      <td>41</td>\n",
       "      <td>56</td>\n",
       "      <td>40</td>\n",
       "      <td>54</td>\n",
       "      <td>77</td>\n",
       "      <td>51</td>\n",
       "      <td>31</td>\n",
       "    </tr>\n",
       "    <tr>\n",
       "      <th>M5</th>\n",
       "      <td>58</td>\n",
       "      <td>56</td>\n",
       "      <td>20</td>\n",
       "      <td>85</td>\n",
       "      <td>53</td>\n",
       "      <td>35</td>\n",
       "      <td>53</td>\n",
       "      <td>41</td>\n",
       "      <td>69</td>\n",
       "      <td>13</td>\n",
       "      <td>86</td>\n",
       "      <td>72</td>\n",
       "      <td>8</td>\n",
       "      <td>49</td>\n",
       "      <td>47</td>\n",
       "      <td>87</td>\n",
       "      <td>58</td>\n",
       "      <td>18</td>\n",
       "      <td>68</td>\n",
       "      <td>28</td>\n",
       "    </tr>\n",
       "  </tbody>\n",
       "</table>\n",
       "</div>"
      ]
     },
     "execution_count": 4,
     "metadata": {},
     "output_type": "execute_result"
    }
   ],
   "execution_count": 4
  },
  {
   "cell_type": "markdown",
   "source": [
    "Now that we can see clearly the data we are working with, let us now convert the data into a numpy array for easier manipulation."
   ],
   "metadata": {
    "collapsed": false
   },
   "id": "8f78502a15716d1"
  },
  {
   "cell_type": "code",
   "source": [
    "def convert_data_to_numpy(data: pd.DataFrame):\n",
    "    \"\"\"\n",
    "    Convert the data from a pandas DataFrame to a numpy array\n",
    "    :param data: the input data\n",
    "    \"\"\"\n",
    "    return data.to_numpy()"
   ],
   "metadata": {
    "collapsed": false,
    "ExecuteTime": {
     "end_time": "2024-04-08T18:36:58.994602Z",
     "start_time": "2024-04-08T18:36:58.991925Z"
    }
   },
   "id": "e2124aa2ac41d0bb",
   "outputs": [],
   "execution_count": 5
  },
  {
   "cell_type": "code",
   "source": [
    "data = convert_data_to_numpy(data)\n",
    "data"
   ],
   "metadata": {
    "collapsed": false,
    "ExecuteTime": {
     "end_time": "2024-04-08T18:36:59.000258Z",
     "start_time": "2024-04-08T18:36:58.994602Z"
    }
   },
   "id": "5e12def8ebb71e8b",
   "outputs": [
    {
     "data": {
      "text/plain": [
       "array([[54, 83, 15, 71, 77, 36, 53, 38, 27, 87, 76, 91, 14, 29, 12, 77,\n",
       "        32, 87, 68, 94],\n",
       "       [79,  3, 11, 99, 56, 70, 99, 60,  5, 56,  3, 61, 73, 75, 47, 14,\n",
       "        21, 86,  5, 77],\n",
       "       [16, 89, 49, 15, 89, 45, 60, 23, 57, 64,  7,  1, 63, 41, 63, 47,\n",
       "        26, 75, 77, 40],\n",
       "       [66, 58, 31, 68, 78, 91, 13, 59, 49, 85, 85,  9, 39, 41, 56, 40,\n",
       "        54, 77, 51, 31],\n",
       "       [58, 56, 20, 85, 53, 35, 53, 41, 69, 13, 86, 72,  8, 49, 47, 87,\n",
       "        58, 18, 68, 28]], dtype=int64)"
      ]
     },
     "execution_count": 6,
     "metadata": {},
     "output_type": "execute_result"
    }
   ],
   "execution_count": 6
  },
  {
   "cell_type": "markdown",
   "source": [
    "With the data now in a numpy array, we can now start implementing the permutation flowshop scheduling problem.\n",
    "\n",
    "We will start by defining the objective function for the problem. \n",
    "The objective function is the total time it takes to process the last job on the last machine, also known as the makespan.\n",
    "More specifically, the makespan is calculated as the sum of the processing times of each job on the last machine.\n",
    "\n",
    "### Variables:\n",
    "\n",
    "- $m$: Index for machines, $m = 1, 2, \\ldots, M$, where $M$ is the total number of machines.\n",
    "- $j$: Index for jobs, $j = 1, 2, \\ldots, N$, where $N$ is the total number of jobs.\n",
    "- $p_{mj}$: Processing time of job $j$ on machine $m$.\n",
    "- $seq$: A sequence (permutation) of jobs $j$, indicating the order in which jobs are processed.\n",
    "- $C_{mj}$: Completion time of job $j$ on machine $m$.\n",
    "- $C_{\\text{max}}$: Makespan, the total time to complete all jobs on all machines, which is the completion time of the last job on the last machine.\n",
    "\n",
    "### Makespan Calculation:\n",
    "\n",
    "1. **Initialization**: For the first job in the sequence ($j=1$) and the first machine ($m=1$), the completion time is simply the processing time of that job on that machine.\n",
    "\n",
    "$$C_{1,seq[1]} = p_{1,seq[1]}$$\n",
    "\n",
    "2. **First Machine**: For each subsequent job $j$ on the first machine ($m=1$), the completion time is the sum of its processing time and the completion time of the previous job.\n",
    "\n",
    "$$C_{1,seq[j]} = C_{1,seq[j-1]} + p_{1,seq[j]}, \\quad \\text{for } j = 2, 3, \\ldots, N$$\n",
    "\n",
    "3. **First Job on Subsequent Machines**: For the first job in the sequence on each subsequent machine $m$, the completion time is the sum of its processing time on the current machine and the completion time on the previous machine.\n",
    "\n",
    "$$C_{m,seq[1]} = C_{m-1,seq[1]} + p_{m,seq[1]}, \\quad \\text{for } m = 2, 3, \\ldots, M$$\n",
    "\n",
    "4. **Subsequent Jobs on Subsequent Machines**: For each subsequent job $j$ on each subsequent machine $m$, the completion time is the maximum of the completion time of the previous job on the current machine and the completion time of the current job on the previous machine, plus the processing time of the current job on the current machine.\n",
    "\n",
    "$$C_{m,seq[j]} = \\max(C_{m,seq[j-1]}, C_{m-1,seq[j]}) + p_{m,seq[j]}, \\quad \\text{for } m = 2, 3, \\ldots, M; \\, j = 2, 3, \\ldots, N$$\n",
    "\n",
    "5. **Makespan**: The makespan $C_{\\text{max}}$ is the completion time of the last job on the last machine.\n",
    "\n",
    "$$C_{\\text{max}} = C_{M,seq[N]}$$\n",
    "\n"
   ],
   "metadata": {
    "collapsed": false
   },
   "id": "f00efea31486e0b8"
  },
  {
   "cell_type": "markdown",
   "source": [
    "Now that we have defined the objective function, we can implement the function that calculates the makespan for a given sequence of jobs.\n",
    "\n"
   ],
   "metadata": {
    "collapsed": false
   },
   "id": "908311068b949596"
  },
  {
   "cell_type": "code",
   "source": [
    "def calculate_makespan(data: np.ndarray, solution: np.ndarray) -> int:\n",
    "    \"\"\"\n",
    "    Calculate the makespan of a solution\n",
    "    :param data: The data in a numpy array\n",
    "    :param solution: The solution to evaluate\n",
    "    :return: The calculated makespan\n",
    "    \"\"\"\n",
    "    # Get the number of machines and jobs from the data\n",
    "    machines = data.shape[0]\n",
    "    jobs = data.shape[1]\n",
    "\n",
    "    # Initialize a matrix to store the completion times of each job on each machine\n",
    "    times = np.zeros((machines, jobs))\n",
    "\n",
    "    for m in range(machines):\n",
    "        for j in range(jobs):\n",
    "            # If we are in the first machine and in the first job\n",
    "            # We just input the processing time of the job\n",
    "            if m == 0 and j == 0:\n",
    "                times[m][j] = data[m][solution[j] - 1]\n",
    "            # If we are in the first machine but not in the first job\n",
    "            # We add the processing time of the job to the previous completion time\n",
    "            elif m == 0:\n",
    "                times[m][j] = times[m][j - 1] + data[m][solution[j] - 1]\n",
    "            # If we are in the first job but not in the first machine\n",
    "            # We add the processing time of the job to the previous completion time\n",
    "            elif j == 0:\n",
    "                times[m][j] = times[m - 1][j] + data[m][solution[j] - 1]\n",
    "            # If we are not in the first job or the first machine\n",
    "            # We add the processing time of the job to the maximum of the previous job on the machine\n",
    "            # or the previous machine on the job\n",
    "            else:\n",
    "                times[m][j] = max(times[m - 1][j], times[m][j - 1]) + data[m][solution[j] - 1]\n",
    "\n",
    "    # The makespan is the completion time of the last job on the last machine\n",
    "    # So the last element of the times matrix will be returned\n",
    "    return times[-1][-1]"
   ],
   "metadata": {
    "collapsed": false,
    "ExecuteTime": {
     "end_time": "2024-04-08T18:36:59.005278Z",
     "start_time": "2024-04-08T18:36:59.000258Z"
    }
   },
   "id": "fe54dd8bc61106b6",
   "outputs": [],
   "execution_count": 7
  },
  {
   "cell_type": "markdown",
   "source": [
    "With the makespan function implemented, we can now start implementing the permutation flowshop scheduling problem.\n",
    "\n",
    "In order to solve the Ta001 problem, we will use the Genetic Algorithm (GA) optimization technique.\n",
    "\n",
    "The Genetic Algorithm (GA) is a search heuristic inspired by Charles Darwin's theory of natural evolution. It reflects the process of natural selection where the fittest individuals are selected for reproduction to produce offspring of the next generation. The algorithm repeatedly modifies a population of individual solutions. At each step, the GA selects individuals at random from the current population to be parents and uses them to produce the children for the next generation. Over successive generations, the population \"evolves\" toward an optimal solution.\n",
    "How the Genetic Algorithm works : \n",
    "\n",
    "1) **Initialization**: Start with a randomly generated population of nn chromosomes (possible solutions for the problem).\n",
    "\n",
    "2) **Fitness Calculation**: Evaluate the fitness f(x)f(x) of each chromosome xx in the population. The fitness score is an indication of how good a solution is relative to others.\n",
    "\n",
    "3) **Selection**: Select parent chromosomes for breeding. Parents are selected according to their fitness. The better the chromosomes are, the more chances they have to be selected for reproduction. This step mimics the \"survival of the fittest\" principle.\n",
    "\n",
    "4) **Crossover** (Recombination): Combine the genetic information of two parents to generate new offspring. There are various methods to perform crossover such as single-point crossover, multi-point crossover, and uniform crossover.\n",
    "\n",
    "5) **Mutation**: Apply random mutations to some offspring at some probability. This step introduces genetic diversity into the population, providing new genetic structures to explore.\n",
    "\n",
    "6) **Replacement**: Form a new population by selecting individuals from the current population and the offspring. This new generation is then used in the next iteration of the algorithm.\n",
    "\n",
    "7) **Termination**: Repeat the steps from Fitness Calculation to Replacement until a termination condition is met (e.g., a maximum number of generations is reached, or a satisfactory fitness level has been achieved)."
   ],
   "metadata": {
    "collapsed": false
   },
   "id": "356ae8ee8aff900f"
  },
  {
   "cell_type": "markdown",
   "source": [
    "In order to explain why the Genetic Algorithm is an appropriate choice for the PFSP, let us calculate the number of possible solutions for our problem.\n",
    "\n",
    "More specifically, the number of possible solutions for the PFSP is the factorial of the number of jobs as each job can be scheduled in a different position in the sequence.\n",
    "\n",
    "The factorial is calculated as follows:\n",
    "\n",
    "$$n! = n \\times (n-1) \\times (n-2) \\times \\ldots \\times 2 \\times 1$$\n",
    "\n",
    "Where $n$ is the number of jobs.\n",
    "\n",
    "\n"
   ],
   "metadata": {
    "collapsed": false
   },
   "id": "b6da34bd6e6f2de0"
  },
  {
   "cell_type": "code",
   "source": [
    "# Calculate the number of possible solutions for the PFSP\n",
    "def calculate_possible_solutions(data: np.ndarray) -> int:\n",
    "    \"\"\"\n",
    "    Calculate the number of possible solutions for the PFSP\n",
    "    :param data: The data in a numpy array\n",
    "    :return: The number of possible solutions\n",
    "    \"\"\"\n",
    "    # Get the number of jobs from the data\n",
    "    jobs = data.shape[1]\n",
    "\n",
    "    # The number of possible solutions is the factorial of the number of jobs\n",
    "    return math.factorial(jobs)\n",
    "\n",
    "\n",
    "# Calculate the number of possible solutions\n",
    "possible_solutions = calculate_possible_solutions(data)\n",
    "possible_solutions"
   ],
   "metadata": {
    "collapsed": false,
    "ExecuteTime": {
     "end_time": "2024-04-08T18:36:59.010687Z",
     "start_time": "2024-04-08T18:36:59.005278Z"
    }
   },
   "id": "c0e1bea1c6040efb",
   "outputs": [
    {
     "data": {
      "text/plain": [
       "2432902008176640000"
      ]
     },
     "execution_count": 8,
     "metadata": {},
     "output_type": "execute_result"
    }
   ],
   "execution_count": 8
  },
  {
   "cell_type": "markdown",
   "source": [
    "We can see that the number of possible solutions for the PFSP is very large, even for a small number of jobs. This is due to the combinatorial nature of the problem, where each job can be scheduled in a different position in the sequence.\n",
    "\n",
    "The Genetic Algorithm is well-suited for combinatorial optimization problems like the PFSP because it can efficiently explore a large search space of possible solutions. By using techniques such as selection, crossover, and mutation, the Genetic Algorithm can find good solutions to complex optimization problems.\n",
    "\n",
    "While other algorithms such as simple heuristics or local search methods can also be used for the PFSP, the Genetic Algorithm provides a good balance between exploration and exploitation of the search space, making it a popular choice for solving combinatorial optimization problems.\n"
   ],
   "metadata": {
    "collapsed": false
   },
   "id": "b90e32a75ca2ed62"
  },
  {
   "cell_type": "markdown",
   "source": [
    "In our case, in order to find the optimal solution for the Ta001 problem, we will implement a **hybrid Genetic Algorithm** that \n",
    "exploits and an another metaheuristic algorithm, the **Tabu Search** algorithm, in order to improve the performance of the Genetic Algorithm.\n",
    "\n",
    "**Tabu Search**, developed by Fred Glover in 1986, is particularly known for its ability to escape local optima, a common challenge in optimization problems. It achieves this by maintaining a tabu list—a short-term memory of recently visited solutions (or moves that alter the current solution) that are temporarily banned or made \"tabu.\" This prevents the search from cycling back to previously explored solutions, encouraging exploration of new regions of the solution space.\n",
    "\n",
    "The key components of Tabu Search include:\n",
    "\n",
    "- **Tabu List**: A list that records certain attributes of the recently visited solutions (or the moves made) to prevent the algorithm from revisiting them. The list has a fixed length (tenure), after which the oldest entries are removed to make room for new ones.\n",
    "\n",
    "- **Aspiration Criteria**: Conditions under which the tabu status of a solution (or move) can be overridden. Typically, if a move leads to a solution better than any seen so far (even if the move is tabu), it may be accepted.\n",
    "\n",
    "- **Neighborhood Search**: At each iteration, Tabu Search examines the \"neighborhood\" of the current solution (solutions reachable from the current solution through a single move) and moves to the best solution in this neighborhood that is not tabu (unless overridden by the aspiration criteria).\n",
    "\n",
    "- **Diversification and Intensification Strategies**: Mechanisms to explore the solution space broadly (diversification) and to exploit promising regions of the solution space deeply (intensification)."
   ],
   "metadata": {
    "collapsed": false
   },
   "id": "447f8a05c98e5a5"
  },
  {
   "cell_type": "markdown",
   "source": [
    "---\n",
    "\n",
    "# Hybrid Genetic Algorithm Implementation\n",
    "\n",
    "Now that we have a good understanding of the Genetic Algorithm and Tabu Search, and why they are suitable for the PFSP, we can proceed with the implementation of the hybrid algorithm to solve our problem.\n",
    " \n",
    "The hybrid Genetic Algorithm with Tabu Search will combine the exploration capabilities of the Genetic Algorithm with the intensification capabilities of Tabu Search to find a good solution to the PFSP.\n",
    "\n",
    "With the Genetic Algorithm, we will explore the search space of possible solutions by generating and evolving populations of chromosomes. The Genetic Algorithm will use selection, crossover, and mutation operators to create new solutions and improve the population over multiple generations.\n",
    "\n",
    "With Tabu Search, we will intensify the search by exploring the neighborhood of the best solution found by the Genetic Algorithm. Tabu Search will use a tabu list to prevent cycling and encourage exploration of new regions of the solution space. More specifically, we will apply Tabu Search each 2 generations of the Genetic Algorithm at the 20% of the population in order to improve the performance of the Genetic Algorithm while improving the quality and diversity of the solutions."
   ],
   "metadata": {
    "collapsed": false
   },
   "id": "eb5bca77b762062"
  },
  {
   "cell_type": "markdown",
   "source": [
    "Having already defined the function that calculates the makespan for a given sequence of jobs, we can now continue to implement our solution.\n",
    "\n",
    "Let's start by defining the function that initializes the population for the Genetic Algorithm."
   ],
   "metadata": {
    "collapsed": false
   },
   "id": "34a864cbb7948b63"
  },
  {
   "cell_type": "code",
   "source": [
    "def initialize_population(data: np.ndarray, pop_size: int) -> list:\n",
    "    \"\"\"\n",
    "    Initialize the population for the Genetic Algorithm\n",
    "    :param data: The data in a numpy array\n",
    "    :param pop_size: The size of the population\n",
    "    :return: The initialized population\n",
    "    \"\"\"\n",
    "    # Get the number of jobs from the data\n",
    "    jobs = data.shape[1]\n",
    "\n",
    "    return [np.random.permutation(jobs) + 1 for _ in range(pop_size)]"
   ],
   "metadata": {
    "collapsed": false,
    "ExecuteTime": {
     "end_time": "2024-04-08T18:36:59.015483Z",
     "start_time": "2024-04-08T18:36:59.010687Z"
    }
   },
   "id": "fc6422e84f62860b",
   "outputs": [],
   "execution_count": 9
  },
  {
   "cell_type": "markdown",
   "source": [
    "Now let's implement the function that selects the best individuals from the population based on their fitness (makespan).\n",
    "Basically, this function is a tournament selection that selects the best individuals from the population based on their fitness (makespan)."
   ],
   "metadata": {
    "collapsed": false
   },
   "id": "e1e365e269732f57"
  },
  {
   "cell_type": "code",
   "source": [
    "def tournament_selection(population: list, fitness: list, tournament_size: int) -> np.ndarray:\n",
    "    \"\"\"\n",
    "    Perform tournament selection on the population\n",
    "    :param population: The population to select from\n",
    "    :param fitness: The fitness values of the population\n",
    "    :param tournament_size: The size of the tournament\n",
    "    :return: The selected individual\n",
    "    \"\"\"\n",
    "    # Choose random indices for the tournament\n",
    "    selected_indices = np.random.choice(range(len(population)), tournament_size)\n",
    "    # Get the makespan values of the selected individuals\n",
    "    selected_fitness = [fitness[i] for i in selected_indices]\n",
    "    # Select the winner of the tournament\n",
    "    winner_index = selected_indices[np.argmin(selected_fitness)]\n",
    "    # Return the winner of the tournament\n",
    "    return population[winner_index]"
   ],
   "metadata": {
    "collapsed": false,
    "ExecuteTime": {
     "end_time": "2024-04-08T18:36:59.019941Z",
     "start_time": "2024-04-08T18:36:59.016490Z"
    }
   },
   "id": "865a6124a999f51c",
   "outputs": [],
   "execution_count": 10
  },
  {
   "cell_type": "markdown",
   "source": [
    "Now, let's implement the function that performs the crossover operation on two parent individuals to produce two offspring individuals."
   ],
   "metadata": {
    "collapsed": false
   },
   "id": "98891407afb7c4f0"
  },
  {
   "cell_type": "code",
   "source": [
    "def ordered_crossover(parent1: np.ndarray, parent2: np.ndarray) -> np.ndarray:\n",
    "    \"\"\"\n",
    "    Perform ordered crossover on two parents\n",
    "    :param parent1: The first parent\n",
    "    :param parent2: The second parent\n",
    "    :return: The children produced by the crossover\n",
    "    \"\"\"\n",
    "    # Get the parent size\n",
    "    size = len(parent1)\n",
    "    # Initialize the child with the same size as the parents\n",
    "    child = np.full(size, None, dtype=object)\n",
    "    # Choose two random indices for the crossover\n",
    "    start, end = sorted(np.random.choice(range(size), size=2, replace=False))\n",
    "    # Copy the selected part of the first parent to the child\n",
    "    child[start:end + 1] = parent1[start:end + 1]\n",
    "    # Get the values that are not in the child from the second parent\n",
    "    fill_values = [item for item in parent2 if item not in child]\n",
    "    # Get the indices that need to be filled\n",
    "    fill_pos = [i for i in range(size) if child[i] is None]\n",
    "    # Fill the child with the values from the second parent\n",
    "    for i, value in zip(fill_pos, fill_values):\n",
    "        child[i] = value\n",
    "    return child"
   ],
   "metadata": {
    "collapsed": false,
    "ExecuteTime": {
     "end_time": "2024-04-08T18:36:59.025246Z",
     "start_time": "2024-04-08T18:36:59.019941Z"
    }
   },
   "id": "31c44f6cc256df81",
   "outputs": [],
   "execution_count": 11
  },
  {
   "cell_type": "markdown",
   "source": [
    "Now, let's implement the mutation function that performs the swap operator on a given solution \n",
    "where it randomly selects two positions in the solution and swaps the jobs at those positions."
   ],
   "metadata": {
    "collapsed": false
   },
   "id": "5fbb2d957826ee31"
  },
  {
   "cell_type": "code",
   "source": [
    "def swap_mutation(solution: np.ndarray) -> np.ndarray:\n",
    "    \"\"\"\n",
    "    Perform swap mutation on a sequence\n",
    "    :param solution: The provided solution\n",
    "    :return: The mutated solution\n",
    "    \"\"\"\n",
    "    # Choose two random indices to swap\n",
    "    idx1, idx2 = np.random.choice(range(len(solution)), size=2, replace=False)\n",
    "    # Swap the values at the indices\n",
    "    solution[idx1], solution[idx2] = solution[idx2], solution[idx1]\n",
    "    # Return the mutated solution\n",
    "    return solution"
   ],
   "metadata": {
    "collapsed": false,
    "ExecuteTime": {
     "end_time": "2024-04-08T18:36:59.029794Z",
     "start_time": "2024-04-08T18:36:59.025246Z"
    }
   },
   "id": "516fe947a7c14dd",
   "outputs": [],
   "execution_count": 12
  },
  {
   "cell_type": "markdown",
   "source": [
    "Now that we have implemented the initialization, selection, crossover, and mutation functions for the Genetic Algorithm, we can proceed with the implementation of the Genetic Algorithm itself.\n",
    "\n",
    "But first let us implement the Tabu Search algorithm in order to use it in the Genetic Algorithm.\n",
    "\n",
    "Let's also keep in mind that the best known solution for the Ta001 problem is 1278."
   ],
   "metadata": {
    "collapsed": false
   },
   "id": "71bde627808065da"
  },
  {
   "cell_type": "code",
   "source": [
    "OPTIMAL_MAKESPAN = 1278"
   ],
   "metadata": {
    "collapsed": false,
    "ExecuteTime": {
     "end_time": "2024-04-08T18:36:59.034757Z",
     "start_time": "2024-04-08T18:36:59.029794Z"
    }
   },
   "id": "4fdf74504b2652a0",
   "outputs": [],
   "execution_count": 13
  },
  {
   "cell_type": "code",
   "source": [
    "def tabu_search(data: np.ndarray, initial_solution: np.ndarray, initial_makespan: int, tabu_list: deque, tenure: int,\n",
    "                num_iterations: int = 50) -> Tuple[np.ndarray, int]:\n",
    "    \"\"\"\n",
    "    Perform tabu search on the initial solution\n",
    "    :param initial_solution: The initial solution provided\n",
    "    :param initial_makespan: The makespan of the initial solution\n",
    "    :param tabu_list: The tabu list to use\n",
    "    :param tenure: The tenure of the tabu list\n",
    "    :param num_iterations: The number of iterations to perform\n",
    "    :return: The Best solution and its makespan\n",
    "    \"\"\"\n",
    "    # Initialize the best solution and its makespan\n",
    "    best_solution = initial_solution.copy()\n",
    "    best_makespan = initial_makespan\n",
    "    current_solution = initial_solution.copy()\n",
    "\n",
    "    # Define the jobs from the data\n",
    "    jobs = data.shape[1]\n",
    "\n",
    "    # Perform the tabu search for the specified number of iterations\n",
    "    for iteration in range(num_iterations):\n",
    "        neighborhood = []  # List to hold all neighbors (solutions) and their makespans\n",
    "        # Generate neighbors by swapping two jobs\n",
    "        for i in range(jobs):\n",
    "            for j in range(i + 1, jobs):\n",
    "                # Check if the move is not tabu else skip\n",
    "                if (i, j) not in tabu_list:\n",
    "                    # Copy the current solution\n",
    "                    neighbor = current_solution.copy()\n",
    "                    # Swap the two jobs\n",
    "                    neighbor[i], neighbor[j] = neighbor[j], neighbor[i]\n",
    "                    # Calculate the makespan of the neighbor\n",
    "                    neighbor_makespan = calculate_makespan(data, neighbor)\n",
    "                    # Save the move that was made\n",
    "                    move = (i, j)\n",
    "                    # Append the neighbor and its makespan to the neighborhood\n",
    "                    neighborhood.append((neighbor, neighbor_makespan, move))\n",
    "\n",
    "        # If no moves are available, break the loop\n",
    "        if not neighborhood:\n",
    "            break\n",
    "\n",
    "        # Select the best move from the neighborhood\n",
    "        neighborhood.sort(key=lambda x: x[1])\n",
    "        # Get the best solution, its makespan and the move that was made\n",
    "        current_solution, current_makespan, current_move = neighborhood[0]\n",
    "\n",
    "        # Update the best solution and its makespan\n",
    "        if current_makespan < best_makespan:\n",
    "            best_solution, best_makespan = current_solution, current_makespan\n",
    "            # Clear tabu list if a better solution is found\n",
    "            tabu_list.clear()\n",
    "\n",
    "            # Check if the optimal solution has been found\n",
    "            if best_makespan == OPTIMAL_MAKESPAN:\n",
    "                print(f\"Found optimal solution at iteration {iteration + 1}!\")\n",
    "                return best_solution, best_makespan\n",
    "\n",
    "        # Update the tabu list\n",
    "        tabu_list.append(current_move)\n",
    "\n",
    "        # If the tabu list is full, remove the oldest element\n",
    "        if len(tabu_list) > tenure:\n",
    "            tabu_list.popleft()\n",
    "\n",
    "    return best_solution, best_makespan"
   ],
   "metadata": {
    "collapsed": false,
    "ExecuteTime": {
     "end_time": "2024-04-08T18:36:59.040590Z",
     "start_time": "2024-04-08T18:36:59.034757Z"
    }
   },
   "id": "de773e736edf4c01",
   "outputs": [],
   "execution_count": 14
  },
  {
   "cell_type": "markdown",
   "source": [
    "Now that we have implemented the Tabu Search algorithm, we can proceed with the implementation of the Genetic Algorithm.\n",
    "\n",
    "But let us check the performance of the Tabu Search algorithm first."
   ],
   "metadata": {
    "collapsed": false
   },
   "id": "8c18afc42c60e84a"
  },
  {
   "cell_type": "code",
   "source": [
    "# Initialize the tabu list and tenure\n",
    "tabu_list = deque(maxlen=5)\n",
    "tenure = 5\n",
    "\n",
    "# Initialize the initial solution and its makespan\n",
    "initial_solution = np.random.permutation(data.shape[1]) + 1\n",
    "\n",
    "# Calculate the initial makespan\n",
    "initial_makespan = calculate_makespan(data, initial_solution)\n",
    "\n",
    "# Time the execution of the Tabu Search\n",
    "start_time = time()\n",
    "\n",
    "# Perform the Tabu Search\n",
    "best_solution, best_makespan = tabu_search(data, initial_solution, initial_makespan, tabu_list, tenure)\n",
    "\n",
    "# Save the execution time\n",
    "execution_time = time() - start_time\n",
    "# Print the best solution and its makespan\n",
    "print(f\"Best Solution: {best_solution}\")\n",
    "print(f\"Best Makespan: {best_makespan}\")\n",
    "# Print the execution time\n",
    "print(f\"Execution Time: {round(execution_time, 2)} seconds\")"
   ],
   "metadata": {
    "collapsed": false,
    "ExecuteTime": {
     "end_time": "2024-04-08T18:36:59.729264Z",
     "start_time": "2024-04-08T18:36:59.040590Z"
    }
   },
   "id": "c65342be0a7875a",
   "outputs": [
    {
     "name": "stdout",
     "output_type": "stream",
     "text": [
      "Best Solution: [15 17  6 19  8  5  7  2  9  4 16 14 13 11  1 18 12  3 10 20]\n",
      "Best Makespan: 1297.0\n",
      "Execution Time: 0.68 seconds\n"
     ]
    }
   ],
   "execution_count": 15
  },
  {
   "cell_type": "markdown",
   "source": [
    "As we can see, the Tabu Search algorithm is able to find a solution close to the optimal solution of the Ta001 problem\n",
    "with a makespan of 1297 and also very quickly (around half a second).\n",
    "\n",
    "However, we can improve the performance of the Tabu Search algorithm by using it in combination with the Genetic Algorithm.\n",
    "\n",
    "Let's now implement the Genetic Algorithm with Tabu Search.\n",
    "\n",
    "The parameters for the Genetic Algorithm are as follows:\n",
    "\n",
    "- **Population Size**: The size of the population\n",
    "- **Number of Generations**: The number of generations\n",
    "- **Mutation Rate**: The probability of mutation\n",
    "- **Tournament Size**: The size of the tournament selection\n",
    "- **Tabu Tenure**: The tenure of the tabu list\n",
    "- **Tabu Search Frequency**: The frequency to apply Tabu Search\n",
    "- **Tabu Iterations**: The number of iterations to perform Tabu Search\n",
    "- **Tabu Search Percentage**: The percentage of the population to apply Tabu Search"
   ],
   "metadata": {
    "collapsed": false
   },
   "id": "f0c33e5def713d34"
  },
  {
   "cell_type": "code",
   "source": [
    "def genetic_algorithm(data: np.ndarray, pop_size: int = 100, generations: int = 100, mutation_rate: float = 0.01,\n",
    "                      tournament_size: int = 3, tabu_tenure: int = 10, tabu_search_frequency: int = 2,\n",
    "                      tabu_iterations: int = 50, tabu_search_percentage: float = 0.1) \\\n",
    "        -> Tuple[np.ndarray, int]:\n",
    "    \"\"\"\n",
    "    The Genetic Algorithm for the PFSP problem\n",
    "    :param data: the data in a numpy array\n",
    "    :param pop_size: the population size\n",
    "    :param generations: the number of generations\n",
    "    :param mutation_rate: the mutation rate\n",
    "    :param tournament_size: the size of the tournament selection\n",
    "    :param tabu_tenure: the tabu tenure\n",
    "    :param tabu_search_frequency: the frequency to apply Tabu Search\n",
    "    :param tabu_iterations: the number of iterations to perform Tabu Search\n",
    "    :param tabu_search_percentage: the percentage of the population to apply Tabu Search\n",
    "    :return: the best solution and its makespan\n",
    "    \"\"\"\n",
    "\n",
    "    # Initialize the population\n",
    "    population = initialize_population(data, pop_size)\n",
    "    # Initialize the tabu list as a deque\n",
    "    tabu_list = deque(maxlen=tabu_tenure)\n",
    "\n",
    "    # Initialize the best solution and its makespan\n",
    "    best_sol_overall = None\n",
    "    best_makespan_overall = float('inf')\n",
    "\n",
    "    # Begin the genetic algorithm loop\n",
    "    for generation in range(generations):\n",
    "        # Calculate the fitness (makespan) of each individual of the population\n",
    "        fitness = [calculate_makespan(data, individual) for individual in population]\n",
    "\n",
    "        # Tabu Search integration\n",
    "        if generation % tabu_search_frequency == 0:\n",
    "            for i in range(len(population)):\n",
    "                # Apply TS to (tabu_search_percentage) of the population\n",
    "                if np.random.rand() < tabu_search_percentage:\n",
    "                    # Apply tabu search to the individual\n",
    "                    improved_solution, improved_fitness = tabu_search(data, population[i], fitness[i],\n",
    "                                                                      tabu_list,\n",
    "                                                                      tabu_tenure, tabu_iterations)\n",
    "\n",
    "                    # Check if we have found the optimal solution\n",
    "                    if improved_fitness == OPTIMAL_MAKESPAN:\n",
    "                        return improved_solution, improved_fitness\n",
    "\n",
    "                    # Update the population and the fitness\n",
    "                    population[i] = improved_solution.copy()\n",
    "                    fitness[i] = improved_fitness\n",
    "\n",
    "        # Initialize a new population\n",
    "        new_population = []\n",
    "        # Initialize the new fitness\n",
    "        new_fitness = []\n",
    "\n",
    "        # Generate the new population\n",
    "        for _ in range(pop_size):\n",
    "            # Perform tournament selection\n",
    "            parent1 = tournament_selection(population, fitness, tournament_size)\n",
    "            parent2 = tournament_selection(population, fitness, tournament_size)\n",
    "            # Perform ordered crossover\n",
    "            child = ordered_crossover(parent1, parent2)\n",
    "            # Perform mutation if the mutation rate is met\n",
    "            if np.random.rand() < mutation_rate:\n",
    "                child = swap_mutation(child)\n",
    "            # Append the child to the new population\n",
    "            new_population.append(child)\n",
    "            # Calculate the fitness of the child\n",
    "            new_fitness.append(calculate_makespan(data, child))\n",
    "\n",
    "        # Update the population\n",
    "        population = new_population.copy()\n",
    "        # Update the fitness of the population\n",
    "        fitness = new_fitness.copy()\n",
    "\n",
    "        # Find the best solution and its makespan\n",
    "        best_idx = np.argmin(fitness)\n",
    "        best_solution = population[best_idx]\n",
    "        best_makespan = fitness[best_idx]\n",
    "        print(best_solution)\n",
    "\n",
    "        # Check if the best solution is better than the overall best solution\n",
    "        if best_makespan < best_makespan_overall:\n",
    "            best_sol_overall = best_solution.copy()\n",
    "            best_makespan_overall = best_makespan\n",
    "            # If the best solution is the optimal solution, break the loop\n",
    "            if best_makespan_overall == OPTIMAL_MAKESPAN:\n",
    "                print(\"Found optimal solution!\")\n",
    "                break\n",
    "\n",
    "        print(f\"Generation {generation + 1}: Best Makespan = {best_makespan}\")\n",
    "\n",
    "    return best_sol_overall, best_makespan_overall"
   ],
   "metadata": {
    "collapsed": false,
    "ExecuteTime": {
     "end_time": "2024-04-08T18:36:59.735319Z",
     "start_time": "2024-04-08T18:36:59.729264Z"
    }
   },
   "id": "ce23d931121e33b2",
   "outputs": [],
   "execution_count": 16
  },
  {
   "cell_type": "markdown",
   "source": [
    "Now that we have implemented the Genetic Algorithm with Tabu Search, we can proceed with running the algorithm to find the optimal solution for the Ta001 problem.\n",
    "\n",
    "But first, let's define the parameters for the Genetic Algorithm by hand.\n",
    "\n",
    "---\n",
    "\n",
    "## Parameters for the Genetic Algorithm\n",
    "\n",
    "After some initial testing, we have found that the following parameters work well for the Ta001 problem:"
   ],
   "metadata": {
    "collapsed": false
   },
   "id": "3d26aa40501170c5"
  },
  {
   "cell_type": "code",
   "source": [
    "# Set the parameters for the Genetic Algorithm\n",
    "population_size = 50\n",
    "num_generations = 100\n",
    "tournament_size = 5\n",
    "mutation_rate = 0.2\n",
    "tabu_tenure = 5  # Size of the tabu list\n",
    "tabu_search_frequency = 3  # Apply TS every 3 generations\n",
    "tabu_iterations = 50\n",
    "tabu_search_percentage = 0.1  # The percentage of the population to apply Tabu Search"
   ],
   "metadata": {
    "collapsed": false,
    "ExecuteTime": {
     "end_time": "2024-04-08T18:36:59.739830Z",
     "start_time": "2024-04-08T18:36:59.735319Z"
    }
   },
   "id": "286b89e2fd1c5381",
   "outputs": [],
   "execution_count": 17
  },
  {
   "cell_type": "markdown",
   "source": [
    "Now let's run the Genetic Algorithm with Tabu Search to find the optimal solution for the Ta001 problem."
   ],
   "metadata": {
    "collapsed": false
   },
   "id": "ca4b981b6d886a5e"
  },
  {
   "cell_type": "code",
   "source": [
    "# Set a random seed for reproducibility\n",
    "np.random.seed(42)\n",
    "# Time the execution of the Genetic Algorithm\n",
    "start_time = time()\n",
    "# Run the Genetic Algorithm\n",
    "best_solution, best_makespan = genetic_algorithm(data=data, pop_size=population_size, generations=num_generations,\n",
    "                                                 mutation_rate=mutation_rate,\n",
    "                                                 tournament_size=tournament_size, tabu_tenure=tabu_tenure,\n",
    "                                                 tabu_iterations=tabu_iterations,\n",
    "                                                 tabu_search_frequency=tabu_search_frequency,\n",
    "                                                 tabu_search_percentage=tabu_search_percentage)\n",
    "# Save the execution time\n",
    "execution_time = time() - start_time\n",
    "# Print the best solution and its makespan\n",
    "print(f\"Best Solution: {best_solution}\")\n",
    "print(f\"Best Makespan: {best_makespan}\")\n",
    "# Print the execution time\n",
    "print(f\"Execution Time: {round(execution_time, 2)} seconds\")"
   ],
   "metadata": {
    "collapsed": false,
    "ExecuteTime": {
     "end_time": "2024-04-08T18:37:05.050876Z",
     "start_time": "2024-04-08T18:36:59.739830Z"
    }
   },
   "id": "a2fb3e37d3332a4",
   "outputs": [
    {
     "name": "stdout",
     "output_type": "stream",
     "text": [
      "[3 9 15 6 11 13 1 4 19 5 14 17 16 18 8 2 7 10 20 12]\n",
      "Generation 1: Best Makespan = 1288.0\n",
      "[3 9 15 6 11 13 1 4 19 5 14 17 16 18 8 2 7 10 20 12]\n",
      "Generation 2: Best Makespan = 1288.0\n",
      "[3 9 15 6 11 13 1 4 19 5 14 17 16 18 8 2 7 10 20 12]\n",
      "Generation 3: Best Makespan = 1288.0\n",
      "Found optimal solution at iteration 9!\n",
      "Best Solution: [9 15 6 3 17 5 7 11 13 1 19 18 16 8 4 2 14 10 20 12]\n",
      "Best Makespan: 1278.0\n",
      "Execution Time: 5.31 seconds\n"
     ]
    }
   ],
   "execution_count": 18
  },
  {
   "cell_type": "markdown",
   "source": [
    "As we can see, the Genetic Algorithm with Tabu Search is able to find the optimal solution for the Ta001 problem with a makespan of **1278**\n",
    "in a relatively short amount of time (around 5 seconds)."
   ],
   "metadata": {
    "collapsed": false
   },
   "id": "178377f9f8cc67f7"
  },
  {
   "cell_type": "markdown",
   "source": [
    "## Hyperparameter Optimization with Optuna\n",
    "\n",
    "Optuna is a hyperparameter optimization framework that automates the process of finding the best hyperparameters for a given machine learning model or optimization problem. It uses an adaptive algorithm to efficiently search the hyperparameter space and find the best set of hyperparameters that optimize the objective function.\n",
    "\n",
    "In this section, we will use Optuna to perform hyperparameter optimization for the Genetic Algorithm with Tabu Search. We will define the hyperparameters to optimize, the objective function to minimize (makespan), and the search space for each hyperparameter.\n",
    "\n",
    "Let's start by defining the objective function for the hyperparameter optimization."
   ],
   "metadata": {
    "collapsed": false
   },
   "id": "87be8fae9d1b6f84"
  },
  {
   "cell_type": "markdown",
   "source": [
    "\n",
    "\n",
    "\n",
    "### Objective Function for Hyperparameter Optimization\n",
    "\n",
    "The objective function for the hyperparameter optimization is the makespan of the best solution found by the Genetic Algorithm with Tabu Search. The goal is to minimize the makespan by finding the best set of hyperparameters for the algorithm.\n",
    "\n",
    "The hyperparameters we will optimize are:\n",
    "\n",
    "- Population Size\n",
    "- Tournament Size\n",
    "- Mutation Rate\n",
    "- Tabu Tenure\n",
    "- Tabu Search Frequency\n",
    "- Tabu Iterations\n",
    "- Tabu Search Percentage\n",
    "\n",
    "We will define the search space for each hyperparameter and use Optuna to find the best set of hyperparameters that **minimize** the makespan.\n",
    "\n",
    "In order to do that, let's first define the number of generations for the optimization process, in this case, we will use 10 generations.\n",
    "Also, we will use 10 trials for the optimization process."
   ],
   "metadata": {
    "collapsed": false
   },
   "id": "b5a0e559011eb13"
  },
  {
   "cell_type": "code",
   "source": [
    "# Set the number of generations for the optimization process\n",
    "GENERATIONS = 10"
   ],
   "metadata": {
    "collapsed": false,
    "ExecuteTime": {
     "end_time": "2024-04-08T18:37:05.053319Z",
     "start_time": "2024-04-08T18:37:05.050876Z"
    }
   },
   "id": "13ab848009c34907",
   "outputs": [],
   "execution_count": 19
  },
  {
   "cell_type": "code",
   "source": [
    "def objective(trial):\n",
    "    # Define the hyperparameter search space\n",
    "    pop_size = trial.suggest_int('pop_size', 50, 200)\n",
    "    mutation_rate = trial.suggest_float('mutation_rate', 0.01, 0.5)\n",
    "    tournament_size = trial.suggest_int('tournament_size', 2, 5)\n",
    "    tabu_tenure = trial.suggest_int('tabu_tenure', 5, 20)\n",
    "    tabu_search_frequency = trial.suggest_int('tabu_search_frequency', 1, 10)\n",
    "    tabu_iterations = trial.suggest_int('tabu_iterations', 30, 70)\n",
    "    tabu_search_percentage = trial.suggest_float('tabu_search_percentage', 0.05, 0.4)\n",
    "\n",
    "    # Start measuring execution time\n",
    "    start_time = time()\n",
    "\n",
    "    np.random.seed(2)\n",
    "\n",
    "    # Execute the GA and retrieve the best makespan\n",
    "    _, best_makespan = genetic_algorithm(data=data, pop_size=pop_size,\n",
    "                                         generations=GENERATIONS,\n",
    "                                         mutation_rate=mutation_rate,\n",
    "                                         tournament_size=tournament_size,\n",
    "                                         tabu_tenure=tabu_tenure,\n",
    "                                         tabu_search_frequency=tabu_search_frequency,\n",
    "                                         tabu_iterations=tabu_iterations,\n",
    "                                         tabu_search_percentage=tabu_search_percentage)\n",
    "\n",
    "    # Measure execution time\n",
    "    execution_time = time() - start_time\n",
    "\n",
    "    # The goal is to minimize the time taken to find the optimal solution\n",
    "    return execution_time\n"
   ],
   "metadata": {
    "collapsed": false,
    "ExecuteTime": {
     "end_time": "2024-04-08T18:37:05.058596Z",
     "start_time": "2024-04-08T18:37:05.053319Z"
    }
   },
   "id": "f5a57bec00947e3c",
   "outputs": [],
   "execution_count": 20
  },
  {
   "cell_type": "markdown",
   "source": [
    "Now that we have defined the objective function for the hyperparameter optimization, we can proceed with running the optimization process using Optuna.\n",
    "\n"
   ],
   "metadata": {
    "collapsed": false
   },
   "id": "58961e5a35949633"
  },
  {
   "cell_type": "code",
   "source": [
    "# Create a study object and optimize the objective function\n",
    "study = optuna.create_study(direction='minimize')\n",
    "study.optimize(objective, n_trials=10)  # Run with 10 trials"
   ],
   "metadata": {
    "collapsed": false,
    "ExecuteTime": {
     "end_time": "2024-04-08T18:38:53.202808Z",
     "start_time": "2024-04-08T18:37:05.058596Z"
    }
   },
   "id": "b0deba19d6235443",
   "outputs": [
    {
     "name": "stderr",
     "output_type": "stream",
     "text": [
      "[I 2024-04-08 21:37:05,062] A new study created in memory with name: no-name-dd3fa303-ca2b-44d1-9286-f1e1c5b84f9d\n"
     ]
    },
    {
     "name": "stdout",
     "output_type": "stream",
     "text": [
      "[9 15 6 8 2 14 19 13 1 17 11 5 7 18 16 4 10 20 12 3]\n",
      "Generation 1: Best Makespan = 1289.0\n",
      "[15 6 8 11 2 9 14 19 13 1 17 5 7 18 16 4 10 20 12 3]\n",
      "Generation 2: Best Makespan = 1294.0\n",
      "[15 6 8 11 9 14 1 5 4 2 19 13 17 7 18 16 10 20 12 3]\n",
      "Generation 3: Best Makespan = 1294.0\n",
      "[15 6 8 11 9 14 1 5 4 2 19 13 17 7 18 16 10 20 12 3]\n",
      "Generation 4: Best Makespan = 1294.0\n",
      "[15 6 8 9 19 14 17 16 13 7 1 2 18 11 4 5 3 12 10 20]\n",
      "Generation 5: Best Makespan = 1297.0\n",
      "[3 15 6 17 9 14 1 4 2 19 8 11 7 13 16 5 18 12 10 20]\n",
      "Generation 6: Best Makespan = 1297.0\n",
      "[15 14 9 1 2 6 4 5 19 17 8 13 16 3 11 7 18 12 10 20]\n",
      "Generation 7: Best Makespan = 1297.0\n",
      "[15 6 13 9 14 11 16 8 3 7 5 17 1 19 4 18 12 2 10 20]\n",
      "Generation 8: Best Makespan = 1297.0\n"
     ]
    },
    {
     "name": "stderr",
     "output_type": "stream",
     "text": [
      "[I 2024-04-08 21:37:43,111] Trial 0 finished with value: 38.047404050827026 and parameters: {'pop_size': 112, 'mutation_rate': 0.016990751262248138, 'tournament_size': 4, 'tabu_tenure': 7, 'tabu_search_frequency': 4, 'tabu_iterations': 35, 'tabu_search_percentage': 0.32234995334865146}. Best is trial 0 with value: 38.047404050827026.\n"
     ]
    },
    {
     "name": "stdout",
     "output_type": "stream",
     "text": [
      "[15 9 19 17 14 4 2 8 11 13 5 7 6 3 1 16 18 12 10 20]\n",
      "Generation 9: Best Makespan = 1297.0\n",
      "[3 15 6 14 4 19 9 17 11 7 1 2 8 13 5 16 18 12 10 20]\n",
      "Generation 10: Best Makespan = 1297.0\n"
     ]
    },
    {
     "name": "stderr",
     "output_type": "stream",
     "text": [
      "[I 2024-04-08 21:37:46,069] Trial 1 finished with value: 2.9575090408325195 and parameters: {'pop_size': 118, 'mutation_rate': 0.09637499765496083, 'tournament_size': 4, 'tabu_tenure': 8, 'tabu_search_frequency': 10, 'tabu_iterations': 64, 'tabu_search_percentage': 0.30615917287561134}. Best is trial 1 with value: 2.9575090408325195.\n"
     ]
    },
    {
     "name": "stdout",
     "output_type": "stream",
     "text": [
      "Found optimal solution at iteration 6!\n"
     ]
    },
    {
     "name": "stderr",
     "output_type": "stream",
     "text": [
      "[I 2024-04-08 21:37:50,240] Trial 2 finished with value: 4.170015335083008 and parameters: {'pop_size': 157, 'mutation_rate': 0.13955989562450952, 'tournament_size': 3, 'tabu_tenure': 10, 'tabu_search_frequency': 5, 'tabu_iterations': 60, 'tabu_search_percentage': 0.1955374956438562}. Best is trial 1 with value: 2.9575090408325195.\n"
     ]
    },
    {
     "name": "stdout",
     "output_type": "stream",
     "text": [
      "Found optimal solution at iteration 6!\n"
     ]
    },
    {
     "name": "stderr",
     "output_type": "stream",
     "text": [
      "[I 2024-04-08 21:38:05,143] Trial 3 finished with value: 14.901571035385132 and parameters: {'pop_size': 166, 'mutation_rate': 0.3834521416739941, 'tournament_size': 5, 'tabu_tenure': 9, 'tabu_search_frequency': 1, 'tabu_iterations': 68, 'tabu_search_percentage': 0.25012428665785263}. Best is trial 1 with value: 2.9575090408325195.\n"
     ]
    },
    {
     "name": "stdout",
     "output_type": "stream",
     "text": [
      "Found optimal solution at iteration 35!\n"
     ]
    },
    {
     "name": "stderr",
     "output_type": "stream",
     "text": [
      "[I 2024-04-08 21:38:08,570] Trial 4 finished with value: 3.425999402999878 and parameters: {'pop_size': 199, 'mutation_rate': 0.05549401844959359, 'tournament_size': 3, 'tabu_tenure': 19, 'tabu_search_frequency': 9, 'tabu_iterations': 61, 'tabu_search_percentage': 0.2099167118344487}. Best is trial 1 with value: 2.9575090408325195.\n"
     ]
    },
    {
     "name": "stdout",
     "output_type": "stream",
     "text": [
      "Found optimal solution at iteration 6!\n"
     ]
    },
    {
     "name": "stderr",
     "output_type": "stream",
     "text": [
      "[I 2024-04-08 21:38:13,199] Trial 5 finished with value: 4.628535985946655 and parameters: {'pop_size': 82, 'mutation_rate': 0.34559057817328576, 'tournament_size': 3, 'tabu_tenure': 13, 'tabu_search_frequency': 10, 'tabu_iterations': 30, 'tabu_search_percentage': 0.17787139059184154}. Best is trial 1 with value: 2.9575090408325195.\n"
     ]
    },
    {
     "name": "stdout",
     "output_type": "stream",
     "text": [
      "[9 15 17 19 13 4 11 6 14 18 1 5 16 8 2 10 7 12 3 20]\n",
      "Generation 1: Best Makespan = 1297.0\n",
      "[15 14 6 9 17 18 7 11 2 8 1 12 3 5 4 19 13 16 10 20]\n",
      "Generation 2: Best Makespan = 1297.0\n",
      "[15 3 6 4 9 13 17 14 5 18 12 19 7 11 1 2 8 16 10 20]\n",
      "Generation 3: Best Makespan = 1297.0\n",
      "[9 6 11 13 7 15 16 14 1 19 18 17 2 3 4 5 12 8 10 20]\n",
      "Generation 4: Best Makespan = 1297.0\n",
      "[15 6 9 13 17 3 14 7 11 1 2 19 18 4 5 12 16 8 10 20]\n",
      "Generation 5: Best Makespan = 1297.0\n",
      "[15 6 11 17 9 13 19 7 1 2 14 18 16 3 4 5 12 8 10 20]\n",
      "Generation 6: Best Makespan = 1297.0\n",
      "[15 6 9 13 17 3 14 7 11 1 2 19 18 4 5 12 16 8 10 20]\n",
      "Generation 7: Best Makespan = 1297.0\n",
      "[15 19 9 6 13 17 3 14 7 11 8 4 1 2 18 12 5 16 10 20]\n",
      "Generation 8: Best Makespan = 1297.0\n",
      "[9 15 6 3 13 16 11 7 17 5 1 2 14 4 19 18 12 8 10 20]\n",
      "Generation 9: Best Makespan = 1297.0\n",
      "[9 15 13 17 3 16 6 19 4 11 14 7 18 5 12 1 2 8 10 20]\n",
      "Generation 10: Best Makespan = 1297.0\n"
     ]
    },
    {
     "name": "stderr",
     "output_type": "stream",
     "text": [
      "[I 2024-04-08 21:38:16,780] Trial 6 finished with value: 3.5785293579101562 and parameters: {'pop_size': 99, 'mutation_rate': 0.4643895606066089, 'tournament_size': 5, 'tabu_tenure': 12, 'tabu_search_frequency': 8, 'tabu_iterations': 55, 'tabu_search_percentage': 0.2674996203523006}. Best is trial 1 with value: 2.9575090408325195.\n"
     ]
    },
    {
     "name": "stdout",
     "output_type": "stream",
     "text": [
      "Found optimal solution at iteration 46!\n",
      "[15 14 19 6 1 5 9 4 2 13 7 11 8 3 12 17 18 16 10 20]\n",
      "Generation 1: Best Makespan = 1297.0\n",
      "[15 17 13 16 1 6 18 12 9 5 3 14 7 11 4 2 8 19 10 20]\n",
      "Generation 2: Best Makespan = 1297.0\n",
      "[15 6 9 5 1 4 14 11 13 19 17 3 12 18 2 7 8 16 10 20]\n",
      "Generation 3: Best Makespan = 1297.0\n",
      "[15 14 9 11 13 4 6 5 3 12 17 18 19 1 2 7 8 16 10 20]\n",
      "Generation 4: Best Makespan = 1297.0\n",
      "[13 17 9 15 6 3 16 4 19 14 11 18 5 7 12 1 2 8 10 20]\n",
      "Generation 5: Best Makespan = 1297.0\n",
      "[15 6 9 17 3 14 13 11 19 5 7 18 12 8 4 16 2 1 10 20]\n",
      "Generation 6: Best Makespan = 1297.0\n",
      "[15 6 1 11 9 13 14 16 5 7 3 4 19 18 12 8 17 2 10 20]\n",
      "Generation 7: Best Makespan = 1297.0\n",
      "[15 14 17 9 13 19 4 11 1 16 3 6 5 7 18 12 8 2 10 20]\n",
      "Generation 8: Best Makespan = 1297.0\n",
      "[15 13 11 4 19 9 6 7 14 17 16 3 18 5 12 8 2 1 10 20]\n",
      "Generation 9: Best Makespan = 1297.0\n"
     ]
    },
    {
     "name": "stderr",
     "output_type": "stream",
     "text": [
      "[I 2024-04-08 21:38:48,805] Trial 7 finished with value: 32.02309966087341 and parameters: {'pop_size': 193, 'mutation_rate': 0.20599517806893303, 'tournament_size': 3, 'tabu_tenure': 9, 'tabu_search_frequency': 3, 'tabu_iterations': 36, 'tabu_search_percentage': 0.0988976856951336}. Best is trial 1 with value: 2.9575090408325195.\n"
     ]
    },
    {
     "name": "stdout",
     "output_type": "stream",
     "text": [
      "[15 9 13 4 11 14 6 5 7 19 8 18 12 17 16 3 1 10 2 20]\n",
      "Generation 10: Best Makespan = 1297.0\n"
     ]
    },
    {
     "name": "stderr",
     "output_type": "stream",
     "text": [
      "[I 2024-04-08 21:38:52,103] Trial 8 finished with value: 3.2979989051818848 and parameters: {'pop_size': 164, 'mutation_rate': 0.0543264575766354, 'tournament_size': 3, 'tabu_tenure': 11, 'tabu_search_frequency': 7, 'tabu_iterations': 49, 'tabu_search_percentage': 0.36298170425040516}. Best is trial 1 with value: 2.9575090408325195.\n"
     ]
    },
    {
     "name": "stdout",
     "output_type": "stream",
     "text": [
      "Found optimal solution at iteration 46!\n"
     ]
    },
    {
     "name": "stderr",
     "output_type": "stream",
     "text": [
      "[I 2024-04-08 21:38:53,201] Trial 9 finished with value: 1.0960047245025635 and parameters: {'pop_size': 113, 'mutation_rate': 0.4864938434915197, 'tournament_size': 2, 'tabu_tenure': 10, 'tabu_search_frequency': 4, 'tabu_iterations': 45, 'tabu_search_percentage': 0.10189933888044786}. Best is trial 9 with value: 1.0960047245025635.\n"
     ]
    },
    {
     "name": "stdout",
     "output_type": "stream",
     "text": [
      "Found optimal solution at iteration 6!\n"
     ]
    }
   ],
   "execution_count": 21
  },
  {
   "cell_type": "markdown",
   "source": [
    "After running the hyperparameter optimization with Optuna, we can retrieve the best set of hyperparameters found by the optimization process."
   ],
   "metadata": {
    "collapsed": false
   },
   "id": "2e5987d216c5ffb2"
  },
  {
   "cell_type": "code",
   "source": [
    "# Get the best hyperparameters\n",
    "best_params = study.best_params\n",
    "\n",
    "# Print the best hyperparameters\n",
    "print(\"Best Hyperparameters: \", best_params)"
   ],
   "metadata": {
    "collapsed": false,
    "ExecuteTime": {
     "end_time": "2024-04-08T18:38:53.205807Z",
     "start_time": "2024-04-08T18:38:53.202808Z"
    }
   },
   "id": "dd87fb20f3c8f941",
   "outputs": [
    {
     "name": "stdout",
     "output_type": "stream",
     "text": [
      "Best Hyperparameters:  {'pop_size': 113, 'mutation_rate': 0.4864938434915197, 'tournament_size': 2, 'tabu_tenure': 10, 'tabu_search_frequency': 4, 'tabu_iterations': 45, 'tabu_search_percentage': 0.10189933888044786}\n"
     ]
    }
   ],
   "execution_count": 22
  },
  {
   "cell_type": "markdown",
   "source": [
    "Now let us check the best makespan found by the hyperparameter optimization process."
   ],
   "metadata": {
    "collapsed": false
   },
   "id": "9d2deda6fdb33e78"
  },
  {
   "cell_type": "code",
   "source": [
    "# Execute the Genetic Algorithm with the best hyperparameters\n",
    "np.random.seed(2)\n",
    "\n",
    "start_time = time()\n",
    "\n",
    "best_solution, best_makespan = genetic_algorithm(data=data, pop_size=best_params['pop_size'],\n",
    "                                                 generations=GENERATIONS,\n",
    "                                                 mutation_rate=best_params['mutation_rate'],\n",
    "                                                 tournament_size=best_params['tournament_size'],\n",
    "                                                 tabu_tenure=best_params['tabu_tenure'],\n",
    "                                                 tabu_search_frequency=best_params['tabu_search_frequency'],\n",
    "                                                 tabu_iterations=best_params['tabu_iterations'],\n",
    "                                                 tabu_search_percentage=best_params['tabu_search_percentage'])\n",
    "\n",
    "execution_time = time() - start_time\n",
    "\n",
    "# Print the best solution and its makespan\n",
    "print(f\"Best Solution: {best_solution}\")\n",
    "print(f\"Best Makespan: {best_makespan}\")\n",
    "print(f\"Execution Time: {round(execution_time, 2)} seconds\")"
   ],
   "metadata": {
    "collapsed": false,
    "ExecuteTime": {
     "end_time": "2024-04-08T18:38:54.317737Z",
     "start_time": "2024-04-08T18:38:53.205807Z"
    }
   },
   "id": "d7ca4fe47288b0e7",
   "outputs": [
    {
     "name": "stdout",
     "output_type": "stream",
     "text": [
      "Found optimal solution at iteration 6!\n",
      "Best Solution: [ 9 15  6  5 14  8  1 19 16 17 13  4  3 18  7 11  2 10 20 12]\n",
      "Best Makespan: 1278.0\n",
      "Execution Time: 1.11 seconds\n"
     ]
    }
   ],
   "execution_count": 23
  },
  {
   "cell_type": "code",
   "source": [
    "# Save the optimal parameters to a json file\n",
    "with open('optimal_params.json', 'w') as f:\n",
    "    json.dump(best_params, f)"
   ],
   "metadata": {
    "collapsed": false,
    "ExecuteTime": {
     "end_time": "2024-04-08T18:38:54.320786Z",
     "start_time": "2024-04-08T18:38:54.317737Z"
    }
   },
   "id": "bbdb26fae3c8cc5c",
   "outputs": [],
   "execution_count": 24
  },
  {
   "cell_type": "markdown",
   "source": [
    "As we can see, the hyperparameter optimization process with Optuna helped us find the best set of hyperparameters that minimized the time taken to find the optimal solution for the Ta001 problem.\n",
    "\n",
    "More specifically, with the best hyperparameters found by the optimization process, the Genetic Algorithm with Tabu Search was able to find the optimal solution with a makespan of 1278 in a short amount of time (around a second), which is a significant improvement over the initial execution time of around 5 seconds.\n",
    "\n",
    "\n",
    "> Note: The optimal makespan can be found with different solutions, so the solution may vary between executions if the random seed is different,\n",
    "(but the makespan should remain the same)."
   ],
   "metadata": {
    "collapsed": false
   },
   "id": "ac8d0bd8e484fe84"
  },
  {
   "cell_type": "markdown",
   "source": [
    "# Conclusion\n",
    "\n",
    "In this notebook, we have implemented a hybrid Genetic Algorithm with Tabu Search to solve the Permutation Flowshop Scheduling Problem (PFSP). We have defined the objective function for the PFSP, implemented the Genetic Algorithm with selection, crossover, and mutation operators, and integrated Tabu Search to improve the performance of the Genetic Algorithm. We have also performed hyperparameter optimization using Optuna to find the best set of hyperparameters for the Genetic Algorithm with Tabu Search.\n",
    "\n",
    "The Genetic Algorithm with Tabu Search was able to find the optimal solution for the Ta001 problem with a makespan of 1278 in a relatively short amount of time. The hyperparameter optimization process using Optuna helped us find the best set of hyperparameters that minimized the time taken to find the optimal solution."
   ],
   "metadata": {
    "collapsed": false
   },
   "id": "f71555c01982373e"
  },
  {
   "cell_type": "markdown",
   "source": [
    "Let's sum up all the answers to the questions of the assignment."
   ],
   "metadata": {
    "collapsed": false
   },
   "id": "1428485f6322d9ff"
  },
  {
   "cell_type": "markdown",
   "source": [
    "1) Calculate the number of possible solutions to the problem: \n",
    "**20! = 2432902008176640000**\n",
    "\n",
    "2) Explain which type of algorithm best suits its solution (exact,\n",
    "heuristics, metaheuristics): \n",
    "**Metaheuristics** are the best choice for solving the PFSP due to the large search space and the combinatorial nature of the problem. Metaheuristics like the **Genetic Algorithm** and **Tabu Search** can efficiently explore the search space and find good solutions to the PFSP.\n",
    "\n",
    "3) Choose an algorithm to solve and develop it in the language programming language of your choice: \n",
    "I have chosen to implement a **hybrid Genetic Algorithm with Tabu Search** to solve the PFSP in Python. The solution can be found in the `final.py` file in the repository where the code is implemented and when executed it will write a file named `output.csv` with the optimal solution and its makespan, along with the execution time.\n",
    "\n",
    "4) List the optimal solution you found and its makespan (total completion time): **makespan** = **1278**, \n",
    "**solution** = [9, 15,  6,  5, 14,  8,  1, 19, 16, 17, 13,  4,  3, 18,  7, 11,  2, 10, 20, 12]\n"
   ],
   "metadata": {
    "collapsed": false
   },
   "id": "f9fce6bc56eb7b2d"
  },
  {
   "cell_type": "code",
   "source": [],
   "metadata": {
    "collapsed": false,
    "ExecuteTime": {
     "end_time": "2024-04-08T18:38:54.322752Z",
     "start_time": "2024-04-08T18:38:54.320786Z"
    }
   },
   "id": "21a51f2fdef8c5c8",
   "outputs": [],
   "execution_count": 24
  },
  {
   "metadata": {
    "ExecuteTime": {
     "end_time": "2024-04-08T18:38:54.324679Z",
     "start_time": "2024-04-08T18:38:54.322752Z"
    }
   },
   "cell_type": "code",
   "source": "",
   "id": "3731b3bd6bf4e0fd",
   "outputs": [],
   "execution_count": 24
  }
 ],
 "metadata": {
  "kernelspec": {
   "display_name": "Python 3",
   "language": "python",
   "name": "python3"
  },
  "language_info": {
   "codemirror_mode": {
    "name": "ipython",
    "version": 2
   },
   "file_extension": ".py",
   "mimetype": "text/x-python",
   "name": "python",
   "nbconvert_exporter": "python",
   "pygments_lexer": "ipython2",
   "version": "2.7.6"
  }
 },
 "nbformat": 4,
 "nbformat_minor": 5
}
